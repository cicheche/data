{
 "cells": [
  {
   "cell_type": "code",
   "execution_count": 1,
   "metadata": {},
   "outputs": [
    {
     "data": {
      "text/html": [
       "<div>\n",
       "<style scoped>\n",
       "    .dataframe tbody tr th:only-of-type {\n",
       "        vertical-align: middle;\n",
       "    }\n",
       "\n",
       "    .dataframe tbody tr th {\n",
       "        vertical-align: top;\n",
       "    }\n",
       "\n",
       "    .dataframe thead th {\n",
       "        text-align: right;\n",
       "    }\n",
       "</style>\n",
       "<table border=\"1\" class=\"dataframe\">\n",
       "  <thead>\n",
       "    <tr style=\"text-align: right;\">\n",
       "      <th></th>\n",
       "      <th>序号</th>\n",
       "      <th>产品通用名称</th>\n",
       "      <th>技术指标</th>\n",
       "      <th>原料与占比</th>\n",
       "    </tr>\n",
       "  </thead>\n",
       "  <tbody>\n",
       "    <tr>\n",
       "      <td>0</td>\n",
       "      <td>1</td>\n",
       "      <td>复混肥料</td>\n",
       "      <td>总养分（N+P2O5+K2O）≥35%（14-8-13）   硫酸钾型</td>\n",
       "      <td>尿素 (占15%),高岭土 (占15.5%),硫酸铵 (占28.16%),磷酸一铵 (占16...</td>\n",
       "    </tr>\n",
       "    <tr>\n",
       "      <td>1</td>\n",
       "      <td>2</td>\n",
       "      <td>复混肥料</td>\n",
       "      <td>总养分（N+P2O5+K2O）≥30%（15-6-9）   中氯</td>\n",
       "      <td>尿素 (占15%),高岭土 (占30.23%),氯化铵 (占28%),磷酸一铵 (占12.2...</td>\n",
       "    </tr>\n",
       "    <tr>\n",
       "      <td>2</td>\n",
       "      <td>3</td>\n",
       "      <td>有机肥料</td>\n",
       "      <td>N+P2O5+K2O≥5% ,有机质≥45%</td>\n",
       "      <td>木薯渣（干基） (占84.9%),菌种 (占0.1%),黄豆渣 (占15%)</td>\n",
       "    </tr>\n",
       "    <tr>\n",
       "      <td>3</td>\n",
       "      <td>4</td>\n",
       "      <td>复混肥料</td>\n",
       "      <td>总养分(N+P2O5+K2O)≥43％ （10―18―15）含氯（低氯）</td>\n",
       "      <td>尿素 (占15%),高岭土 (占20%),粉状磷酸一铵 (占40%),氯化钾 (占25%)</td>\n",
       "    </tr>\n",
       "    <tr>\n",
       "      <td>4</td>\n",
       "      <td>5</td>\n",
       "      <td>有机肥料</td>\n",
       "      <td>总养分(N+P2O5+K2O)≥5.0％ 有机质≥45％ 酸碱度（PH）  5.5∽8.5</td>\n",
       "      <td>畜禽粪便 (占50%),菌种 (占2%),桐 麸 (占30%),滤 泥 (占18%)</td>\n",
       "    </tr>\n",
       "    <tr>\n",
       "      <td>...</td>\n",
       "      <td>...</td>\n",
       "      <td>...</td>\n",
       "      <td>...</td>\n",
       "      <td>...</td>\n",
       "    </tr>\n",
       "    <tr>\n",
       "      <td>195</td>\n",
       "      <td>196</td>\n",
       "      <td>有机-无机复混肥料</td>\n",
       "      <td>有机-无机肥复混肥料（Ⅰ型）6-8-6（含氯 ）总含量：N+P2O5+K2O≥20%，有机质...</td>\n",
       "      <td>尿素 (占5%),膨润土 (占25%),氯化铵 (占10%),氯化钾 (占10%),磷酸一铵...</td>\n",
       "    </tr>\n",
       "    <tr>\n",
       "      <td>196</td>\n",
       "      <td>197</td>\n",
       "      <td>有机-无机复混肥料</td>\n",
       "      <td>总养份≥29％（9-7-13）  有机质≥20％   含氯</td>\n",
       "      <td>尿素 (占16.5%),酒糟 (占13%),滤泥 (占33.2%),磷酸一铵 (占15.6%...</td>\n",
       "    </tr>\n",
       "    <tr>\n",
       "      <td>197</td>\n",
       "      <td>198</td>\n",
       "      <td>有机肥料</td>\n",
       "      <td>总养分(N+P2O5+K2O)≥5.0％ 有机质≥45％ 酸碱度（PH） 5.5∽8.5</td>\n",
       "      <td>畜禽粪便 (占50%),菌种 (占2%),桐 麸 (占30%),滤泥 (占18%)</td>\n",
       "    </tr>\n",
       "    <tr>\n",
       "      <td>198</td>\n",
       "      <td>199</td>\n",
       "      <td>有机肥料</td>\n",
       "      <td>总养分（N+P2O5+K2O）≥5.0%有机质≥45%</td>\n",
       "      <td>牛粪 (占85%),发酵剂 (占0.03%),鸡粪 (占10%), (占0%), (占0%)...</td>\n",
       "    </tr>\n",
       "    <tr>\n",
       "      <td>199</td>\n",
       "      <td>200</td>\n",
       "      <td>有机-无机复混肥料</td>\n",
       "      <td>总养分≥25%（N+P2O5+K2O）   有机质  ≥15%     含氯  II型</td>\n",
       "      <td>尿素 (占26%),高岭土 (占10%),55磷酸一铵 (占12%),氯化钾 (占12%),...</td>\n",
       "    </tr>\n",
       "  </tbody>\n",
       "</table>\n",
       "<p>200 rows × 4 columns</p>\n",
       "</div>"
      ],
      "text/plain": [
       "      序号     产品通用名称                                               技术指标  \\\n",
       "0      1       复混肥料                总养分（N+P2O5+K2O）≥35%（14-8-13）   硫酸钾型   \n",
       "1      2       复混肥料                   总养分（N+P2O5+K2O）≥30%（15-6-9）   中氯   \n",
       "2      3       有机肥料                             N+P2O5+K2O≥5% ,有机质≥45%   \n",
       "3      4       复混肥料               总养分(N+P2O5+K2O)≥43％ （10―18―15）含氯（低氯）   \n",
       "4      5       有机肥料      总养分(N+P2O5+K2O)≥5.0％ 有机质≥45％ 酸碱度（PH）  5.5∽8.5   \n",
       "..   ...        ...                                                ...   \n",
       "195  196  有机-无机复混肥料  有机-无机肥复混肥料（Ⅰ型）6-8-6（含氯 ）总含量：N+P2O5+K2O≥20%，有机质...   \n",
       "196  197  有机-无机复混肥料                      总养份≥29％（9-7-13）  有机质≥20％   含氯   \n",
       "197  198       有机肥料       总养分(N+P2O5+K2O)≥5.0％ 有机质≥45％ 酸碱度（PH） 5.5∽8.5   \n",
       "198  199       有机肥料                        总养分（N+P2O5+K2O）≥5.0%有机质≥45%   \n",
       "199  200  有机-无机复混肥料        总养分≥25%（N+P2O5+K2O）   有机质  ≥15%     含氯  II型   \n",
       "\n",
       "                                                 原料与占比  \n",
       "0    尿素 (占15%),高岭土 (占15.5%),硫酸铵 (占28.16%),磷酸一铵 (占16...  \n",
       "1    尿素 (占15%),高岭土 (占30.23%),氯化铵 (占28%),磷酸一铵 (占12.2...  \n",
       "2               木薯渣（干基） (占84.9%),菌种 (占0.1%),黄豆渣 (占15%)  \n",
       "3        尿素 (占15%),高岭土 (占20%),粉状磷酸一铵 (占40%),氯化钾 (占25%)  \n",
       "4           畜禽粪便 (占50%),菌种 (占2%),桐 麸 (占30%),滤 泥 (占18%)  \n",
       "..                                                 ...  \n",
       "195  尿素 (占5%),膨润土 (占25%),氯化铵 (占10%),氯化钾 (占10%),磷酸一铵...  \n",
       "196  尿素 (占16.5%),酒糟 (占13%),滤泥 (占33.2%),磷酸一铵 (占15.6%...  \n",
       "197          畜禽粪便 (占50%),菌种 (占2%),桐 麸 (占30%),滤泥 (占18%)  \n",
       "198  牛粪 (占85%),发酵剂 (占0.03%),鸡粪 (占10%), (占0%), (占0%)...  \n",
       "199  尿素 (占26%),高岭土 (占10%),55磷酸一铵 (占12%),氯化钾 (占12%),...  \n",
       "\n",
       "[200 rows x 4 columns]"
      ]
     },
     "execution_count": 1,
     "metadata": {},
     "output_type": "execute_result"
    }
   ],
   "source": [
    "import pandas as pd\n",
    "import numpy as np\n",
    "data = pd.read_excel('附件4.xlsx')\n",
    "data"
   ]
  },
  {
   "cell_type": "code",
   "execution_count": 5,
   "metadata": {},
   "outputs": [],
   "source": [
    "氮、磷、钾养分的百分比按照总百分比的 1/3 来计算\n",
    "无机肥料 有机质百分比=0\n",
    "含氯程度 无氯 含氯=低氯"
   ]
  },
  {
   "cell_type": "code",
   "execution_count": 6,
   "metadata": {
    "collapsed": true
   },
   "outputs": [
    {
     "data": {
      "text/html": [
       "<div>\n",
       "<style scoped>\n",
       "    .dataframe tbody tr th:only-of-type {\n",
       "        vertical-align: middle;\n",
       "    }\n",
       "\n",
       "    .dataframe tbody tr th {\n",
       "        vertical-align: top;\n",
       "    }\n",
       "\n",
       "    .dataframe thead th {\n",
       "        text-align: right;\n",
       "    }\n",
       "</style>\n",
       "<table border=\"1\" class=\"dataframe\">\n",
       "  <thead>\n",
       "    <tr style=\"text-align: right;\">\n",
       "      <th></th>\n",
       "      <th>序号</th>\n",
       "      <th>产品通用名称</th>\n",
       "      <th>技术指标</th>\n",
       "      <th>原料与占比</th>\n",
       "    </tr>\n",
       "  </thead>\n",
       "  <tbody>\n",
       "    <tr>\n",
       "      <td>0</td>\n",
       "      <td>1</td>\n",
       "      <td>复混肥料</td>\n",
       "      <td>总养分（N+P2O5+K2O）≥35%（14-8-13）   硫酸钾型</td>\n",
       "      <td>尿素 (占15%),高岭土 (占15.5%),硫酸铵 (占28.16%),磷酸一铵 (占16...</td>\n",
       "    </tr>\n",
       "    <tr>\n",
       "      <td>1</td>\n",
       "      <td>2</td>\n",
       "      <td>复混肥料</td>\n",
       "      <td>总养分（N+P2O5+K2O）≥30%（15-6-9）   中氯</td>\n",
       "      <td>尿素 (占15%),高岭土 (占30.23%),氯化铵 (占28%),磷酸一铵 (占12.2...</td>\n",
       "    </tr>\n",
       "    <tr>\n",
       "      <td>3</td>\n",
       "      <td>4</td>\n",
       "      <td>复混肥料</td>\n",
       "      <td>总养分(N+P2O5+K2O)≥43％ （10―18―15）含氯（低氯）</td>\n",
       "      <td>尿素 (占15%),高岭土 (占20%),粉状磷酸一铵 (占40%),氯化钾 (占25%)</td>\n",
       "    </tr>\n",
       "    <tr>\n",
       "      <td>12</td>\n",
       "      <td>13</td>\n",
       "      <td>复混肥料</td>\n",
       "      <td>N+P2O5 +K2O ≥35%  （15-8-12）高氯</td>\n",
       "      <td>尿素 (占14.9%),高岭土 (占15%),硫酸铵 (占32.6%),磷酸一铵  (占17...</td>\n",
       "    </tr>\n",
       "    <tr>\n",
       "      <td>16</td>\n",
       "      <td>17</td>\n",
       "      <td>复混肥料</td>\n",
       "      <td>N+P2O5 +K2O ≥30%  （12-8-10）高氯</td>\n",
       "      <td>尿素 (占4.5%),高岭土 (占20%),硫酸铵 (占41.2%),磷酸一铵  (占17....</td>\n",
       "    </tr>\n",
       "    <tr>\n",
       "      <td>...</td>\n",
       "      <td>...</td>\n",
       "      <td>...</td>\n",
       "      <td>...</td>\n",
       "      <td>...</td>\n",
       "    </tr>\n",
       "    <tr>\n",
       "      <td>183</td>\n",
       "      <td>184</td>\n",
       "      <td>复混肥料</td>\n",
       "      <td>总含量≥40.0%（16-8-16）含氯（高氯）枸溶性磷</td>\n",
       "      <td>尿素 (占23.5%),腐殖酸 (占3.9%),高岭土 (占4%),氯化铵 (占15%),磷...</td>\n",
       "    </tr>\n",
       "    <tr>\n",
       "      <td>184</td>\n",
       "      <td>185</td>\n",
       "      <td>复混肥料</td>\n",
       "      <td>总养分（N+P2O5+K2O）≥28%  （11-5-12）含氯（中氯）、枸溶性磷</td>\n",
       "      <td>尿素 (占10%),高岭土 (占16%),氯化铵 (占26%),肥料级磷酸氢钙 (占8%),...</td>\n",
       "    </tr>\n",
       "    <tr>\n",
       "      <td>185</td>\n",
       "      <td>186</td>\n",
       "      <td>复混肥料</td>\n",
       "      <td>总养分（N+P2O5+K2O）≥35%（17-6-12）含氯（中氯）、水溶性磷</td>\n",
       "      <td>尿素 (占20%),高岭土 (占19%),农用氯化铵 (占28%),粉状磷酸一铵 (占13%...</td>\n",
       "    </tr>\n",
       "    <tr>\n",
       "      <td>186</td>\n",
       "      <td>187</td>\n",
       "      <td>复混肥料</td>\n",
       "      <td>总养分（N+P2O5+K2O）≥40%  (20-8-12)含氯（中氯）、水溶性磷</td>\n",
       "      <td>尿素 (占25%),高岭土 (占8.5%),农用氯化铵 (占29%),粉状磷酸一铵 (占17...</td>\n",
       "    </tr>\n",
       "    <tr>\n",
       "      <td>187</td>\n",
       "      <td>188</td>\n",
       "      <td>复混肥料</td>\n",
       "      <td>总养分(N+P2O5+K2O)≥57％ （19―19―19）含氯（低氯）、水溶性磷</td>\n",
       "      <td>尿素 (占25%),高岭土 (占1%),磷酸二铵  (占42%),氯化钾 (占32%)</td>\n",
       "    </tr>\n",
       "  </tbody>\n",
       "</table>\n",
       "<p>100 rows × 4 columns</p>\n",
       "</div>"
      ],
      "text/plain": [
       "      序号 产品通用名称                                       技术指标  \\\n",
       "0      1   复混肥料        总养分（N+P2O5+K2O）≥35%（14-8-13）   硫酸钾型   \n",
       "1      2   复混肥料           总养分（N+P2O5+K2O）≥30%（15-6-9）   中氯   \n",
       "3      4   复混肥料       总养分(N+P2O5+K2O)≥43％ （10―18―15）含氯（低氯）   \n",
       "12    13   复混肥料              N+P2O5 +K2O ≥35%  （15-8-12）高氯   \n",
       "16    17   复混肥料              N+P2O5 +K2O ≥30%  （12-8-10）高氯   \n",
       "..   ...    ...                                        ...   \n",
       "183  184   复混肥料               总含量≥40.0%（16-8-16）含氯（高氯）枸溶性磷   \n",
       "184  185   复混肥料  总养分（N+P2O5+K2O）≥28%  （11-5-12）含氯（中氯）、枸溶性磷   \n",
       "185  186   复混肥料    总养分（N+P2O5+K2O）≥35%（17-6-12）含氯（中氯）、水溶性磷   \n",
       "186  187   复混肥料  总养分（N+P2O5+K2O）≥40%  (20-8-12)含氯（中氯）、水溶性磷   \n",
       "187  188   复混肥料  总养分(N+P2O5+K2O)≥57％ （19―19―19）含氯（低氯）、水溶性磷   \n",
       "\n",
       "                                                 原料与占比  \n",
       "0    尿素 (占15%),高岭土 (占15.5%),硫酸铵 (占28.16%),磷酸一铵 (占16...  \n",
       "1    尿素 (占15%),高岭土 (占30.23%),氯化铵 (占28%),磷酸一铵 (占12.2...  \n",
       "3        尿素 (占15%),高岭土 (占20%),粉状磷酸一铵 (占40%),氯化钾 (占25%)  \n",
       "12   尿素 (占14.9%),高岭土 (占15%),硫酸铵 (占32.6%),磷酸一铵  (占17...  \n",
       "16   尿素 (占4.5%),高岭土 (占20%),硫酸铵 (占41.2%),磷酸一铵  (占17....  \n",
       "..                                                 ...  \n",
       "183  尿素 (占23.5%),腐殖酸 (占3.9%),高岭土 (占4%),氯化铵 (占15%),磷...  \n",
       "184  尿素 (占10%),高岭土 (占16%),氯化铵 (占26%),肥料级磷酸氢钙 (占8%),...  \n",
       "185  尿素 (占20%),高岭土 (占19%),农用氯化铵 (占28%),粉状磷酸一铵 (占13%...  \n",
       "186  尿素 (占25%),高岭土 (占8.5%),农用氯化铵 (占29%),粉状磷酸一铵 (占17...  \n",
       "187        尿素 (占25%),高岭土 (占1%),磷酸二铵  (占42%),氯化钾 (占32%)  \n",
       "\n",
       "[100 rows x 4 columns]"
      ]
     },
     "execution_count": 6,
     "metadata": {},
     "output_type": "execute_result"
    }
   ],
   "source": [
    "data_inoc = data.loc[data['产品通用名称'] == '复混肥料']\n",
    "data_inoc"
   ]
  },
  {
   "cell_type": "code",
   "execution_count": 7,
   "metadata": {},
   "outputs": [
    {
     "name": "stderr",
     "output_type": "stream",
     "text": [
      "D:\\Anacnda\\lib\\site-packages\\ipykernel_launcher.py:1: SettingWithCopyWarning: \n",
      "A value is trying to be set on a copy of a slice from a DataFrame.\n",
      "Try using .loc[row_indexer,col_indexer] = value instead\n",
      "\n",
      "See the caveats in the documentation: http://pandas.pydata.org/pandas-docs/stable/user_guide/indexing.html#returning-a-view-versus-a-copy\n",
      "  \"\"\"Entry point for launching an IPython kernel.\n"
     ]
    }
   ],
   "source": [
    "data_inoc['含氯程度'] = '无氯'"
   ]
  },
  {
   "cell_type": "code",
   "execution_count": null,
   "metadata": {},
   "outputs": [],
   "source": [
    "data_inoc['氮百分比'] = "
   ]
  },
  {
   "cell_type": "code",
   "execution_count": 12,
   "metadata": {},
   "outputs": [
    {
     "ename": "IndexError",
     "evalue": "list index out of range",
     "output_type": "error",
     "traceback": [
      "\u001b[1;31m---------------------------------------------------------------------------\u001b[0m",
      "\u001b[1;31mIndexError\u001b[0m                                Traceback (most recent call last)",
      "\u001b[1;32m<ipython-input-12-b7f62d2694b7>\u001b[0m in \u001b[0;36m<module>\u001b[1;34m\u001b[0m\n\u001b[1;32m----> 1\u001b[1;33m \u001b[0mdata_inoc\u001b[0m\u001b[1;33m[\u001b[0m\u001b[1;34m'有机质百分比'\u001b[0m\u001b[1;33m]\u001b[0m\u001b[1;33m=\u001b[0m\u001b[0mdata\u001b[0m\u001b[1;33m[\u001b[0m\u001b[1;34m'技术指标'\u001b[0m\u001b[1;33m]\u001b[0m\u001b[1;33m.\u001b[0m\u001b[0mapply\u001b[0m\u001b[1;33m(\u001b[0m\u001b[1;32mlambda\u001b[0m \u001b[0mx\u001b[0m\u001b[1;33m:\u001b[0m\u001b[0mx\u001b[0m\u001b[1;33m.\u001b[0m\u001b[0msplit\u001b[0m\u001b[1;33m(\u001b[0m\u001b[1;34m'有机质≥'\u001b[0m\u001b[1;33m)\u001b[0m\u001b[1;33m[\u001b[0m\u001b[1;36m2\u001b[0m\u001b[1;33m]\u001b[0m\u001b[1;33m)\u001b[0m\u001b[1;33m\u001b[0m\u001b[1;33m\u001b[0m\u001b[0m\n\u001b[0m",
      "\u001b[1;32mD:\\Anacnda\\lib\\site-packages\\pandas\\core\\series.py\u001b[0m in \u001b[0;36mapply\u001b[1;34m(self, func, convert_dtype, args, **kwds)\u001b[0m\n\u001b[0;32m   4040\u001b[0m             \u001b[1;32melse\u001b[0m\u001b[1;33m:\u001b[0m\u001b[1;33m\u001b[0m\u001b[1;33m\u001b[0m\u001b[0m\n\u001b[0;32m   4041\u001b[0m                 \u001b[0mvalues\u001b[0m \u001b[1;33m=\u001b[0m \u001b[0mself\u001b[0m\u001b[1;33m.\u001b[0m\u001b[0mastype\u001b[0m\u001b[1;33m(\u001b[0m\u001b[0mobject\u001b[0m\u001b[1;33m)\u001b[0m\u001b[1;33m.\u001b[0m\u001b[0mvalues\u001b[0m\u001b[1;33m\u001b[0m\u001b[1;33m\u001b[0m\u001b[0m\n\u001b[1;32m-> 4042\u001b[1;33m                 \u001b[0mmapped\u001b[0m \u001b[1;33m=\u001b[0m \u001b[0mlib\u001b[0m\u001b[1;33m.\u001b[0m\u001b[0mmap_infer\u001b[0m\u001b[1;33m(\u001b[0m\u001b[0mvalues\u001b[0m\u001b[1;33m,\u001b[0m \u001b[0mf\u001b[0m\u001b[1;33m,\u001b[0m \u001b[0mconvert\u001b[0m\u001b[1;33m=\u001b[0m\u001b[0mconvert_dtype\u001b[0m\u001b[1;33m)\u001b[0m\u001b[1;33m\u001b[0m\u001b[1;33m\u001b[0m\u001b[0m\n\u001b[0m\u001b[0;32m   4043\u001b[0m \u001b[1;33m\u001b[0m\u001b[0m\n\u001b[0;32m   4044\u001b[0m         \u001b[1;32mif\u001b[0m \u001b[0mlen\u001b[0m\u001b[1;33m(\u001b[0m\u001b[0mmapped\u001b[0m\u001b[1;33m)\u001b[0m \u001b[1;32mand\u001b[0m \u001b[0misinstance\u001b[0m\u001b[1;33m(\u001b[0m\u001b[0mmapped\u001b[0m\u001b[1;33m[\u001b[0m\u001b[1;36m0\u001b[0m\u001b[1;33m]\u001b[0m\u001b[1;33m,\u001b[0m \u001b[0mSeries\u001b[0m\u001b[1;33m)\u001b[0m\u001b[1;33m:\u001b[0m\u001b[1;33m\u001b[0m\u001b[1;33m\u001b[0m\u001b[0m\n",
      "\u001b[1;32mpandas\\_libs\\lib.pyx\u001b[0m in \u001b[0;36mpandas._libs.lib.map_infer\u001b[1;34m()\u001b[0m\n",
      "\u001b[1;32m<ipython-input-12-b7f62d2694b7>\u001b[0m in \u001b[0;36m<lambda>\u001b[1;34m(x)\u001b[0m\n\u001b[1;32m----> 1\u001b[1;33m \u001b[0mdata_inoc\u001b[0m\u001b[1;33m[\u001b[0m\u001b[1;34m'有机质百分比'\u001b[0m\u001b[1;33m]\u001b[0m\u001b[1;33m=\u001b[0m\u001b[0mdata\u001b[0m\u001b[1;33m[\u001b[0m\u001b[1;34m'技术指标'\u001b[0m\u001b[1;33m]\u001b[0m\u001b[1;33m.\u001b[0m\u001b[0mapply\u001b[0m\u001b[1;33m(\u001b[0m\u001b[1;32mlambda\u001b[0m \u001b[0mx\u001b[0m\u001b[1;33m:\u001b[0m\u001b[0mx\u001b[0m\u001b[1;33m.\u001b[0m\u001b[0msplit\u001b[0m\u001b[1;33m(\u001b[0m\u001b[1;34m'有机质≥'\u001b[0m\u001b[1;33m)\u001b[0m\u001b[1;33m[\u001b[0m\u001b[1;36m2\u001b[0m\u001b[1;33m]\u001b[0m\u001b[1;33m)\u001b[0m\u001b[1;33m\u001b[0m\u001b[1;33m\u001b[0m\u001b[0m\n\u001b[0m",
      "\u001b[1;31mIndexError\u001b[0m: list index out of range"
     ]
    }
   ],
   "source": [
    "data_inoc['有机质百分比']=data['技术指标'].apply(lambda x:x.split('≥')[2])"
   ]
  },
  {
   "cell_type": "code",
   "execution_count": 53,
   "metadata": {},
   "outputs": [
    {
     "data": {
      "text/plain": [
       "'25%'"
      ]
     },
     "execution_count": 53,
     "metadata": {},
     "output_type": "execute_result"
    }
   ],
   "source": [
    "data['技术指标'][119].split('≥')[1][0:3]"
   ]
  },
  {
   "cell_type": "code",
   "execution_count": null,
   "metadata": {},
   "outputs": [],
   "source": [
    "data['技术指标'].apply(lambda x:x.split('>')[-1])"
   ]
  }
 ],
 "metadata": {
  "kernelspec": {
   "display_name": "Python 3",
   "language": "python",
   "name": "python3"
  },
  "language_info": {
   "codemirror_mode": {
    "name": "ipython",
    "version": 3
   },
   "file_extension": ".py",
   "mimetype": "text/x-python",
   "name": "python",
   "nbconvert_exporter": "python",
   "pygments_lexer": "ipython3",
   "version": "3.7.4"
  }
 },
 "nbformat": 4,
 "nbformat_minor": 2
}
