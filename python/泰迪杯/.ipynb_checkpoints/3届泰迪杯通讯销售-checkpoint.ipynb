{
 "cells": [
  {
   "cell_type": "code",
   "execution_count": 1,
   "metadata": {},
   "outputs": [],
   "source": [
    "import pandas as pd"
   ]
  },
  {
   "cell_type": "code",
   "execution_count": 7,
   "metadata": {
    "scrolled": true
   },
   "outputs": [
    {
     "data": {
      "text/html": [
       "<div>\n",
       "<style scoped>\n",
       "    .dataframe tbody tr th:only-of-type {\n",
       "        vertical-align: middle;\n",
       "    }\n",
       "\n",
       "    .dataframe tbody tr th {\n",
       "        vertical-align: top;\n",
       "    }\n",
       "\n",
       "    .dataframe thead th {\n",
       "        text-align: right;\n",
       "    }\n",
       "</style>\n",
       "<table border=\"1\" class=\"dataframe\">\n",
       "  <thead>\n",
       "    <tr style=\"text-align: right;\">\n",
       "      <th></th>\n",
       "      <th>日期</th>\n",
       "      <th>国家</th>\n",
       "      <th>城市</th>\n",
       "      <th>地区</th>\n",
       "      <th>服务分类</th>\n",
       "      <th>销售额</th>\n",
       "      <th>利润</th>\n",
       "    </tr>\n",
       "  </thead>\n",
       "  <tbody>\n",
       "    <tr>\n",
       "      <th>0</th>\n",
       "      <td>2017-01-01</td>\n",
       "      <td>Cote d'Ivoire</td>\n",
       "      <td>Abidjan</td>\n",
       "      <td>Western</td>\n",
       "      <td>Commercial</td>\n",
       "      <td>656.96</td>\n",
       "      <td>6.57</td>\n",
       "    </tr>\n",
       "    <tr>\n",
       "      <th>1</th>\n",
       "      <td>2017-01-01</td>\n",
       "      <td>Madagascar</td>\n",
       "      <td>Antananarivo</td>\n",
       "      <td>Eastern</td>\n",
       "      <td>Public</td>\n",
       "      <td>875.94</td>\n",
       "      <td>-70.08</td>\n",
       "    </tr>\n",
       "    <tr>\n",
       "      <th>2</th>\n",
       "      <td>2017-01-01</td>\n",
       "      <td>Rwanda</td>\n",
       "      <td>Kigali</td>\n",
       "      <td>Eastern</td>\n",
       "      <td>Public</td>\n",
       "      <td>258.35</td>\n",
       "      <td>18.08</td>\n",
       "    </tr>\n",
       "    <tr>\n",
       "      <th>3</th>\n",
       "      <td>2017-01-01</td>\n",
       "      <td>Zimbabwe</td>\n",
       "      <td>Harare</td>\n",
       "      <td>Eastern</td>\n",
       "      <td>Residential</td>\n",
       "      <td>875.62</td>\n",
       "      <td>-35.02</td>\n",
       "    </tr>\n",
       "    <tr>\n",
       "      <th>4</th>\n",
       "      <td>2017-01-02</td>\n",
       "      <td>Ethiopia</td>\n",
       "      <td>Addis Ababa</td>\n",
       "      <td>Eastern</td>\n",
       "      <td>Residential</td>\n",
       "      <td>509.93</td>\n",
       "      <td>10.20</td>\n",
       "    </tr>\n",
       "  </tbody>\n",
       "</table>\n",
       "</div>"
      ],
      "text/plain": [
       "          日期             国家            城市       地区         服务分类     销售额     利润\n",
       "0 2017-01-01  Cote d'Ivoire       Abidjan  Western   Commercial  656.96   6.57\n",
       "1 2017-01-01     Madagascar  Antananarivo  Eastern       Public  875.94 -70.08\n",
       "2 2017-01-01         Rwanda        Kigali  Eastern       Public  258.35  18.08\n",
       "3 2017-01-01       Zimbabwe        Harare  Eastern  Residential  875.62 -35.02\n",
       "4 2017-01-02       Ethiopia   Addis Ababa  Eastern  Residential  509.93  10.20"
      ]
     },
     "execution_count": 7,
     "metadata": {},
     "output_type": "execute_result"
    }
   ],
   "source": [
    "#读取工作表SalesData\n",
    "SalesData=pd.read_excel('E:\\泰迪/三届/非洲通讯产品销售数据.xlsx',sheet_name='SalesData',encoding='GBK')\n",
    "SalesData.head()"
   ]
  },
  {
   "cell_type": "code",
   "execution_count": 8,
   "metadata": {
    "scrolled": true
   },
   "outputs": [
    {
     "data": {
      "text/html": [
       "<div>\n",
       "<style scoped>\n",
       "    .dataframe tbody tr th:only-of-type {\n",
       "        vertical-align: middle;\n",
       "    }\n",
       "\n",
       "    .dataframe tbody tr th {\n",
       "        vertical-align: top;\n",
       "    }\n",
       "\n",
       "    .dataframe thead th {\n",
       "        text-align: right;\n",
       "    }\n",
       "</style>\n",
       "<table border=\"1\" class=\"dataframe\">\n",
       "  <thead>\n",
       "    <tr style=\"text-align: right;\">\n",
       "      <th></th>\n",
       "      <th>日期</th>\n",
       "      <th>销售经理</th>\n",
       "      <th>地区</th>\n",
       "      <th>销售合同</th>\n",
       "      <th>成交率</th>\n",
       "      <th>Unnamed: 5</th>\n",
       "      <th>备注：本表格中“销售合同”为“已成交合同”。</th>\n",
       "    </tr>\n",
       "  </thead>\n",
       "  <tbody>\n",
       "    <tr>\n",
       "      <th>0</th>\n",
       "      <td>2017-01-01</td>\n",
       "      <td>Aiden Morris</td>\n",
       "      <td>Western</td>\n",
       "      <td>13</td>\n",
       "      <td>0.55</td>\n",
       "      <td>NaN</td>\n",
       "      <td>NaN</td>\n",
       "    </tr>\n",
       "    <tr>\n",
       "      <th>1</th>\n",
       "      <td>2017-01-01</td>\n",
       "      <td>Audrey Baker</td>\n",
       "      <td>Eastern</td>\n",
       "      <td>11</td>\n",
       "      <td>0.30</td>\n",
       "      <td>NaN</td>\n",
       "      <td>NaN</td>\n",
       "    </tr>\n",
       "    <tr>\n",
       "      <th>2</th>\n",
       "      <td>2017-01-01</td>\n",
       "      <td>Constantine Eager</td>\n",
       "      <td>Eastern</td>\n",
       "      <td>9</td>\n",
       "      <td>0.36</td>\n",
       "      <td>NaN</td>\n",
       "      <td>NaN</td>\n",
       "    </tr>\n",
       "    <tr>\n",
       "      <th>3</th>\n",
       "      <td>2017-01-01</td>\n",
       "      <td>Francis Martineau</td>\n",
       "      <td>Northern</td>\n",
       "      <td>11</td>\n",
       "      <td>0.22</td>\n",
       "      <td>NaN</td>\n",
       "      <td>NaN</td>\n",
       "    </tr>\n",
       "    <tr>\n",
       "      <th>4</th>\n",
       "      <td>2017-01-01</td>\n",
       "      <td>George O'Malley</td>\n",
       "      <td>Middle</td>\n",
       "      <td>14</td>\n",
       "      <td>0.33</td>\n",
       "      <td>NaN</td>\n",
       "      <td>NaN</td>\n",
       "    </tr>\n",
       "  </tbody>\n",
       "</table>\n",
       "</div>"
      ],
      "text/plain": [
       "          日期               销售经理        地区  销售合同   成交率  Unnamed: 5  \\\n",
       "0 2017-01-01       Aiden Morris   Western    13  0.55         NaN   \n",
       "1 2017-01-01       Audrey Baker   Eastern    11  0.30         NaN   \n",
       "2 2017-01-01  Constantine Eager   Eastern     9  0.36         NaN   \n",
       "3 2017-01-01  Francis Martineau  Northern    11  0.22         NaN   \n",
       "4 2017-01-01    George O'Malley    Middle    14  0.33         NaN   \n",
       "\n",
       "   备注：本表格中“销售合同”为“已成交合同”。  \n",
       "0                     NaN  \n",
       "1                     NaN  \n",
       "2                     NaN  \n",
       "3                     NaN  \n",
       "4                     NaN  "
      ]
     },
     "execution_count": 8,
     "metadata": {},
     "output_type": "execute_result"
    }
   ],
   "source": [
    "#读取工作表SalespersonData\n",
    "SalespersonData=pd.read_excel('E:\\泰迪/三届/非洲通讯产品销售数据.xlsx',sheet_name='SalespersonData',encoding='GBK')\n",
    "SalespersonData.head()"
   ]
  },
  {
   "cell_type": "markdown",
   "metadata": {},
   "source": [
    "# 数据预处理"
   ]
  },
  {
   "cell_type": "code",
   "execution_count": 11,
   "metadata": {},
   "outputs": [
    {
     "data": {
      "text/html": [
       "<div>\n",
       "<style scoped>\n",
       "    .dataframe tbody tr th:only-of-type {\n",
       "        vertical-align: middle;\n",
       "    }\n",
       "\n",
       "    .dataframe tbody tr th {\n",
       "        vertical-align: top;\n",
       "    }\n",
       "\n",
       "    .dataframe thead th {\n",
       "        text-align: right;\n",
       "    }\n",
       "</style>\n",
       "<table border=\"1\" class=\"dataframe\">\n",
       "  <thead>\n",
       "    <tr style=\"text-align: right;\">\n",
       "      <th></th>\n",
       "      <th>日期</th>\n",
       "      <th>销售经理</th>\n",
       "      <th>地区</th>\n",
       "      <th>销售合同</th>\n",
       "      <th>成交率</th>\n",
       "    </tr>\n",
       "  </thead>\n",
       "  <tbody>\n",
       "    <tr>\n",
       "      <th>0</th>\n",
       "      <td>2017-01-01</td>\n",
       "      <td>Aiden Morris</td>\n",
       "      <td>Western</td>\n",
       "      <td>13</td>\n",
       "      <td>0.55</td>\n",
       "    </tr>\n",
       "    <tr>\n",
       "      <th>1</th>\n",
       "      <td>2017-01-01</td>\n",
       "      <td>Audrey Baker</td>\n",
       "      <td>Eastern</td>\n",
       "      <td>11</td>\n",
       "      <td>0.30</td>\n",
       "    </tr>\n",
       "    <tr>\n",
       "      <th>2</th>\n",
       "      <td>2017-01-01</td>\n",
       "      <td>Constantine Eager</td>\n",
       "      <td>Eastern</td>\n",
       "      <td>9</td>\n",
       "      <td>0.36</td>\n",
       "    </tr>\n",
       "    <tr>\n",
       "      <th>3</th>\n",
       "      <td>2017-01-01</td>\n",
       "      <td>Francis Martineau</td>\n",
       "      <td>Northern</td>\n",
       "      <td>11</td>\n",
       "      <td>0.22</td>\n",
       "    </tr>\n",
       "    <tr>\n",
       "      <th>4</th>\n",
       "      <td>2017-01-01</td>\n",
       "      <td>George O'Malley</td>\n",
       "      <td>Middle</td>\n",
       "      <td>14</td>\n",
       "      <td>0.33</td>\n",
       "    </tr>\n",
       "  </tbody>\n",
       "</table>\n",
       "</div>"
      ],
      "text/plain": [
       "          日期               销售经理        地区  销售合同   成交率\n",
       "0 2017-01-01       Aiden Morris   Western    13  0.55\n",
       "1 2017-01-01       Audrey Baker   Eastern    11  0.30\n",
       "2 2017-01-01  Constantine Eager   Eastern     9  0.36\n",
       "3 2017-01-01  Francis Martineau  Northern    11  0.22\n",
       "4 2017-01-01    George O'Malley    Middle    14  0.33"
      ]
     },
     "execution_count": 11,
     "metadata": {},
     "output_type": "execute_result"
    }
   ],
   "source": [
    "#去除SalespersonData表中无关内容\n",
    "SalespersonData.drop(['Unnamed: 5','备注：本表格中“销售合同”为“已成交合同”。'],axis=1,inplace=True)\n",
    "SalespersonData.head()"
   ]
  },
  {
   "cell_type": "markdown",
   "metadata": {},
   "source": [
    "* 查看缺失值情况\\\n",
    "行列均无缺失值无缺失值"
   ]
  },
  {
   "cell_type": "code",
   "execution_count": 12,
   "metadata": {},
   "outputs": [
    {
     "data": {
      "text/plain": [
       "(日期      0\n",
       " 国家      0\n",
       " 城市      0\n",
       " 地区      0\n",
       " 服务分类    0\n",
       " 销售额     0\n",
       " 利润      0\n",
       " dtype: int64, (1056, 7))"
      ]
     },
     "execution_count": 12,
     "metadata": {},
     "output_type": "execute_result"
    }
   ],
   "source": [
    "SalesData.isnull().sum(),SalesData.shape#行"
   ]
  },
  {
   "cell_type": "code",
   "execution_count": 13,
   "metadata": {},
   "outputs": [
    {
     "data": {
      "text/plain": [
       "(日期      0\n",
       " 销售经理    0\n",
       " 地区      0\n",
       " 销售合同    0\n",
       " 成交率     0\n",
       " dtype: int64, (160, 5))"
      ]
     },
     "execution_count": 13,
     "metadata": {},
     "output_type": "execute_result"
    }
   ],
   "source": [
    "SalespersonData.isnull().sum(),SalespersonData.shape#行"
   ]
  },
  {
   "cell_type": "code",
   "execution_count": 14,
   "metadata": {},
   "outputs": [
    {
     "data": {
      "text/plain": [
       "日期      0.0\n",
       "国家      0.0\n",
       "城市      0.0\n",
       "地区      0.0\n",
       "服务分类    0.0\n",
       "销售额     0.0\n",
       "利润      0.0\n",
       "dtype: float64"
      ]
     },
     "execution_count": 14,
     "metadata": {},
     "output_type": "execute_result"
    }
   ],
   "source": [
    "SalesData.apply(lambda x : sum(x.isnull())/len(x), axis=0)#列"
   ]
  },
  {
   "cell_type": "code",
   "execution_count": 15,
   "metadata": {},
   "outputs": [
    {
     "data": {
      "text/plain": [
       "日期      0.0\n",
       "销售经理    0.0\n",
       "地区      0.0\n",
       "销售合同    0.0\n",
       "成交率     0.0\n",
       "dtype: float64"
      ]
     },
     "execution_count": 15,
     "metadata": {},
     "output_type": "execute_result"
    }
   ],
   "source": [
    "SalespersonData.apply(lambda x : sum(x.isnull())/len(x), axis=0)#列"
   ]
  },
  {
   "cell_type": "code",
   "execution_count": 19,
   "metadata": {},
   "outputs": [
    {
     "data": {
      "text/html": [
       "<div>\n",
       "<style scoped>\n",
       "    .dataframe tbody tr th:only-of-type {\n",
       "        vertical-align: middle;\n",
       "    }\n",
       "\n",
       "    .dataframe tbody tr th {\n",
       "        vertical-align: top;\n",
       "    }\n",
       "\n",
       "    .dataframe thead th {\n",
       "        text-align: right;\n",
       "    }\n",
       "</style>\n",
       "<table border=\"1\" class=\"dataframe\">\n",
       "  <thead>\n",
       "    <tr style=\"text-align: right;\">\n",
       "      <th></th>\n",
       "      <th>mean</th>\n",
       "      <th>50%</th>\n",
       "      <th>min</th>\n",
       "      <th>max</th>\n",
       "    </tr>\n",
       "  </thead>\n",
       "  <tbody>\n",
       "    <tr>\n",
       "      <th>销售额</th>\n",
       "      <td>497.643542</td>\n",
       "      <td>476.455</td>\n",
       "      <td>0.89</td>\n",
       "      <td>999.08</td>\n",
       "    </tr>\n",
       "    <tr>\n",
       "      <th>利润</th>\n",
       "      <td>4.757538</td>\n",
       "      <td>2.710</td>\n",
       "      <td>-77.05</td>\n",
       "      <td>95.39</td>\n",
       "    </tr>\n",
       "  </tbody>\n",
       "</table>\n",
       "</div>"
      ],
      "text/plain": [
       "           mean      50%    min     max\n",
       "销售额  497.643542  476.455   0.89  999.08\n",
       "利润     4.757538    2.710 -77.05   95.39"
      ]
     },
     "execution_count": 19,
     "metadata": {},
     "output_type": "execute_result"
    }
   ],
   "source": [
    "SalesData.describe().T[['mean', '50%', 'min', 'max']]"
   ]
  },
  {
   "cell_type": "code",
   "execution_count": 20,
   "metadata": {},
   "outputs": [
    {
     "data": {
      "text/html": [
       "<div>\n",
       "<style scoped>\n",
       "    .dataframe tbody tr th:only-of-type {\n",
       "        vertical-align: middle;\n",
       "    }\n",
       "\n",
       "    .dataframe tbody tr th {\n",
       "        vertical-align: top;\n",
       "    }\n",
       "\n",
       "    .dataframe thead th {\n",
       "        text-align: right;\n",
       "    }\n",
       "</style>\n",
       "<table border=\"1\" class=\"dataframe\">\n",
       "  <thead>\n",
       "    <tr style=\"text-align: right;\">\n",
       "      <th></th>\n",
       "      <th>mean</th>\n",
       "      <th>50%</th>\n",
       "      <th>min</th>\n",
       "      <th>max</th>\n",
       "    </tr>\n",
       "  </thead>\n",
       "  <tbody>\n",
       "    <tr>\n",
       "      <th>销售合同</th>\n",
       "      <td>9.325000</td>\n",
       "      <td>9.000</td>\n",
       "      <td>1.00</td>\n",
       "      <td>16.00</td>\n",
       "    </tr>\n",
       "    <tr>\n",
       "      <th>成交率</th>\n",
       "      <td>0.318917</td>\n",
       "      <td>0.305</td>\n",
       "      <td>0.11</td>\n",
       "      <td>0.58</td>\n",
       "    </tr>\n",
       "  </tbody>\n",
       "</table>\n",
       "</div>"
      ],
      "text/plain": [
       "          mean    50%   min    max\n",
       "销售合同  9.325000  9.000  1.00  16.00\n",
       "成交率   0.318917  0.305  0.11   0.58"
      ]
     },
     "execution_count": 20,
     "metadata": {},
     "output_type": "execute_result"
    }
   ],
   "source": [
    "SalespersonData.describe().T[['mean', '50%', 'min', 'max']]"
   ]
  },
  {
   "cell_type": "code",
   "execution_count": null,
   "metadata": {},
   "outputs": [],
   "source": []
  }
 ],
 "metadata": {
  "kernelspec": {
   "display_name": "Python 3",
   "language": "python",
   "name": "python3"
  },
  "language_info": {
   "codemirror_mode": {
    "name": "ipython",
    "version": 3
   },
   "file_extension": ".py",
   "mimetype": "text/x-python",
   "name": "python",
   "nbconvert_exporter": "python",
   "pygments_lexer": "ipython3",
   "version": "3.7.4"
  }
 },
 "nbformat": 4,
 "nbformat_minor": 2
}
