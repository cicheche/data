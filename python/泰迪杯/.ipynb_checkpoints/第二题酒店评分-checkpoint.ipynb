{
 "cells": [
  {
   "cell_type": "code",
   "execution_count": 1,
   "metadata": {},
   "outputs": [],
   "source": [
    "import pandas as pd\n",
    "import numpy as np\n",
    "import jieba\n",
    "#定义停用词、标点符号\n",
    "punctuation = [\"，\",\"。\",\"\",\"；\", \"？\"]\n",
    "#定义语料\n",
    "jdcomment = pd.read_excel('D:/泰迪杯/c题/附件1/酒店评论.xlsx')\n",
    "jdscore = pd.read_excel('D:/泰迪杯/c题/附件2/酒店评分.xlsx')"
   ]
  },
  {
   "cell_type": "code",
   "execution_count": 2,
   "metadata": {},
   "outputs": [],
   "source": [
    "jdcomment.index=jdcomment['酒店名称']"
   ]
  },
  {
   "cell_type": "code",
   "execution_count": 3,
   "metadata": {},
   "outputs": [],
   "source": [
    "z1 = [f'H{x}{y}' for x in range(0,5) for y in range(0,10)][1:]\n",
    "df1 = [jdcomment.loc[f'{x}']['评论内容'] for x in z1]"
   ]
  },
  {
   "cell_type": "code",
   "execution_count": 4,
   "metadata": {},
   "outputs": [],
   "source": [
    "df2 = [jdcomment.loc['H50']['评论内容']]"
   ]
  },
  {
   "cell_type": "code",
   "execution_count": 5,
   "metadata": {},
   "outputs": [],
   "source": [
    "x = df1+df2\n",
    "x=[str(i) for i in x]"
   ]
  },
  {
   "cell_type": "code",
   "execution_count": 6,
   "metadata": {},
   "outputs": [
    {
     "name": "stderr",
     "output_type": "stream",
     "text": [
      "Building prefix dict from the default dictionary ...\n",
      "Loading model from cache C:\\Users\\DELL\\AppData\\Local\\Temp\\jieba.cache\n",
      "Loading model cost 0.799 seconds.\n",
      "Prefix dict has been built successfully.\n"
     ]
    }
   ],
   "source": [
    "import re\n",
    "#加载停用词\n",
    "stoplist= [word.strip() for word in open('stopwords.txt',encoding='gb2312').readlines()]\n",
    "# print(stoplist)\n",
    "sentences_list = x\n",
    "# 对句子进行分词\n",
    "def seg_depart(sentence):\n",
    "    # 去掉非汉字字符\n",
    "    sentence = re.sub(r'[^\\u4e00-\\u9fa5]+','',sentence)\n",
    "    sentence_depart = jieba.cut(sentence.strip())\n",
    "    word_list = []\n",
    "    for word in sentence_depart:\n",
    "        if word not in stoplist:\n",
    "            word_list.append(word)\n",
    "    # 如果句子整个被过滤掉了，如：'02-2717:56'被过滤，那就返回[],保持句子的数量不变\n",
    "    return word_list\n",
    "\n",
    "sentence_word_list = []\n",
    "for sentence in sentences_list:\n",
    "    line_seg = seg_depart(sentence)\n",
    "    sentence_word_list.append(line_seg)\n",
    "\n",
    "x = sentences_list"
   ]
  },
  {
   "cell_type": "code",
   "execution_count": 7,
   "metadata": {},
   "outputs": [
    {
     "data": {
      "text/plain": [
       "scipy.sparse.csr.csr_matrix"
      ]
     },
     "execution_count": 7,
     "metadata": {},
     "output_type": "execute_result"
    }
   ],
   "source": [
    "from sklearn.feature_extraction.text import CountVectorizer,TfidfVectorizer\n",
    "from sklearn.feature_extraction.text import TfidfTransformer\n",
    " \n",
    "#该类会统计每个词语的tf-idf权值\n",
    "tf_idf_transformer = TfidfVectorizer()\n",
    "\n",
    "x1 = tf_idf_transformer.fit_transform(x)\n",
    "type(x1)"
   ]
  },
  {
   "cell_type": "code",
   "execution_count": 8,
   "metadata": {},
   "outputs": [
    {
     "data": {
      "text/plain": [
       "(50, 1392)"
      ]
     },
     "execution_count": 8,
     "metadata": {},
     "output_type": "execute_result"
    }
   ],
   "source": [
    "x1.shape"
   ]
  },
  {
   "cell_type": "code",
   "execution_count": 9,
   "metadata": {},
   "outputs": [
    {
     "name": "stdout",
     "output_type": "stream",
     "text": [
      "服务得分评分： 4.700000000000002\n",
      "代价函数MSE： 0.009859999999999985\n"
     ]
    }
   ],
   "source": [
    "#服务得分评分\n",
    "y = jdscore\n",
    "y1 = y['服务得分']\n",
    "from sklearn.model_selection import train_test_split\n",
    "x_train,x_test,y_train,y_test=train_test_split(x1,y1,test_size=0.2)\n",
    "from sklearn.ensemble import BaggingRegressor\n",
    "model_BaggingRegressor = BaggingRegressor()\n",
    "model_BaggingRegressor.fit(x_train,y_train)\n",
    "y_hat = model_BaggingRegressor.predict(x_test)\n",
    "print(\"服务得分评分：\",y_hat.min())\n",
    "#均方误差 MSE\n",
    "from sklearn.metrics import mean_squared_error as MSE\n",
    "print(\"代价函数MSE：\",MSE(y_hat,y_test))"
   ]
  },
  {
   "cell_type": "code",
   "execution_count": 10,
   "metadata": {},
   "outputs": [
    {
     "name": "stdout",
     "output_type": "stream",
     "text": [
      "服务得分评分： 4.6899999999999995\n",
      "代价函数MSE： 0.007870000000000005\n"
     ]
    }
   ],
   "source": [
    "#位置得分评分\n",
    "y = jdscore\n",
    "y2 = y['位置得分']\n",
    "from sklearn.model_selection import train_test_split\n",
    "x_train,x_test,y_train,y_test=train_test_split(x1,y2,test_size=0.2)\n",
    "from sklearn.ensemble import BaggingRegressor\n",
    "model_BaggingRegressor = BaggingRegressor()\n",
    "model_BaggingRegressor.fit(x_train,y_train)\n",
    "y_hat1 = model_BaggingRegressor.predict(x_test)\n",
    "print(\"服务得分评分：\",y_hat1.min())\n",
    "#均方误差 MSE\n",
    "from sklearn.metrics import mean_squared_error as MSE\n",
    "print(\"代价函数MSE：\",MSE(y_hat1,y_test))"
   ]
  },
  {
   "cell_type": "code",
   "execution_count": 11,
   "metadata": {},
   "outputs": [
    {
     "name": "stdout",
     "output_type": "stream",
     "text": [
      "服务得分评分： 4.49\n",
      "代价函数MSE： 0.06750999999999997\n"
     ]
    }
   ],
   "source": [
    "#设施得分评分\n",
    "y = jdscore\n",
    "y3 = y['设施得分']\n",
    "from sklearn.model_selection import train_test_split\n",
    "x_train,x_test,y_train,y_test=train_test_split(x1,y3,test_size=0.2)\n",
    "from sklearn.ensemble import BaggingRegressor\n",
    "model_BaggingRegressor = BaggingRegressor()\n",
    "model_BaggingRegressor.fit(x_train,y_train)\n",
    "y_hat2 = model_BaggingRegressor.predict(x_test)\n",
    "print(\"服务得分评分：\",y_hat2.min())\n",
    "#均方误差 MSE\n",
    "from sklearn.metrics import mean_squared_error as MSE\n",
    "print(\"代价函数MSE：\",MSE(y_hat2,y_test))"
   ]
  },
  {
   "cell_type": "code",
   "execution_count": 12,
   "metadata": {},
   "outputs": [
    {
     "name": "stdout",
     "output_type": "stream",
     "text": [
      "服务得分评分： 4.69\n",
      "代价函数MSE： 0.01709999999999992\n"
     ]
    }
   ],
   "source": [
    "#设施得分评分\n",
    "y = jdscore\n",
    "y4 = y['卫生得分']\n",
    "from sklearn.model_selection import train_test_split\n",
    "x_train,x_test,y_train,y_test=train_test_split(x1,y4,test_size=0.2)\n",
    "from sklearn.ensemble import BaggingRegressor\n",
    "model_BaggingRegressor = BaggingRegressor()\n",
    "model_BaggingRegressor.fit(x_train,y_train)\n",
    "y_hat3 = model_BaggingRegressor.predict(x_test)\n",
    "print(\"服务得分评分：\",y_hat3.min())\n",
    "#均方误差 MSE\n",
    "from sklearn.metrics import mean_squared_error as MSE\n",
    "print(\"代价函数MSE：\",MSE(y_hat3,y_test))"
   ]
  },
  {
   "cell_type": "code",
   "execution_count": 13,
   "metadata": {},
   "outputs": [
    {
     "name": "stdout",
     "output_type": "stream",
     "text": [
      "服务得分评分： 4.0\n",
      "代价函数MSE： 0.010199999999999954\n"
     ]
    }
   ],
   "source": [
    "#设性价比得分评分\n",
    "y = jdscore\n",
    "y5 = y['性价比得分']\n",
    "from sklearn.model_selection import train_test_split\n",
    "x_train,x_test,y_train,y_test=train_test_split(x1,y5,test_size=0.2)\n",
    "from sklearn.ensemble import BaggingRegressor\n",
    "model_BaggingRegressor = BaggingRegressor()\n",
    "model_BaggingRegressor.fit(x_train,y_train)\n",
    "y_hat4 = model_BaggingRegressor.predict(x_test)\n",
    "print(\"服务得分评分：\",y_hat4.min())\n",
    "#均方误差 MSE\n",
    "from sklearn.metrics import mean_squared_error as MSE\n",
    "print(\"代价函数MSE：\",MSE(y_hat4,y_test))"
   ]
  },
  {
   "cell_type": "code",
   "execution_count": null,
   "metadata": {},
   "outputs": [],
   "source": []
  }
 ],
 "metadata": {
  "kernelspec": {
   "display_name": "Python 3",
   "language": "python",
   "name": "python3"
  },
  "language_info": {
   "codemirror_mode": {
    "name": "ipython",
    "version": 3
   },
   "file_extension": ".py",
   "mimetype": "text/x-python",
   "name": "python",
   "nbconvert_exporter": "python",
   "pygments_lexer": "ipython3",
   "version": "3.7.4"
  }
 },
 "nbformat": 4,
 "nbformat_minor": 2
}
