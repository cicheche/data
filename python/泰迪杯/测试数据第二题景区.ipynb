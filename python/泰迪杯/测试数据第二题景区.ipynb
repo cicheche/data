{
 "cells": [
  {
   "cell_type": "code",
   "execution_count": 60,
   "metadata": {},
   "outputs": [
    {
     "data": {
      "text/html": [
       "<div>\n",
       "<style scoped>\n",
       "    .dataframe tbody tr th:only-of-type {\n",
       "        vertical-align: middle;\n",
       "    }\n",
       "\n",
       "    .dataframe tbody tr th {\n",
       "        vertical-align: top;\n",
       "    }\n",
       "\n",
       "    .dataframe thead th {\n",
       "        text-align: right;\n",
       "    }\n",
       "</style>\n",
       "<table border=\"1\" class=\"dataframe\">\n",
       "  <thead>\n",
       "    <tr style=\"text-align: right;\">\n",
       "      <th></th>\n",
       "      <th>景区名称</th>\n",
       "      <th>评论日期</th>\n",
       "      <th>评论内容</th>\n",
       "    </tr>\n",
       "  </thead>\n",
       "  <tbody>\n",
       "    <tr>\n",
       "      <td>0</td>\n",
       "      <td>A51</td>\n",
       "      <td>2020-04-05</td>\n",
       "      <td>整体还可以，适合家人朋友一起出游，门票有点小贵，里面各项游乐设施均需要另外收费，这个季节花开...</td>\n",
       "    </tr>\n",
       "    <tr>\n",
       "      <td>1</td>\n",
       "      <td>A51</td>\n",
       "      <td>2020-01-04</td>\n",
       "      <td>**生态园动物园这个地方挺好的，取票方便，服务态度又好，里面风景好，动物也好看，适合居家旅行...</td>\n",
       "    </tr>\n",
       "    <tr>\n",
       "      <td>2</td>\n",
       "      <td>A51</td>\n",
       "      <td>2020-12-13</td>\n",
       "      <td>环境一个字差，服务态度差，特别是钓鱼的地方，当你钓鱼后向工作人员要一个塑料袋只会给你一个，当...</td>\n",
       "    </tr>\n",
       "    <tr>\n",
       "      <td>3</td>\n",
       "      <td>A51</td>\n",
       "      <td>2020-10-06</td>\n",
       "      <td>你好，亲，有护士执业有免费吗？</td>\n",
       "    </tr>\n",
       "    <tr>\n",
       "      <td>4</td>\n",
       "      <td>A51</td>\n",
       "      <td>2020-05-07</td>\n",
       "      <td>景区里面还是太小了，没有什么好看和玩的。门票还要那么贵！</td>\n",
       "    </tr>\n",
       "    <tr>\n",
       "      <td>...</td>\n",
       "      <td>...</td>\n",
       "      <td>...</td>\n",
       "      <td>...</td>\n",
       "    </tr>\n",
       "    <tr>\n",
       "      <td>1934</td>\n",
       "      <td>A60</td>\n",
       "      <td>2015-12-31</td>\n",
       "      <td>无数人的名字都是和**的名字或者是字有关，可以看出这里的人们是多么爱戴这位大伟人。</td>\n",
       "    </tr>\n",
       "    <tr>\n",
       "      <td>1935</td>\n",
       "      <td>A60</td>\n",
       "      <td>2015-04-16</td>\n",
       "      <td>潮州很多路名 街名都与**有关**便是如此引文**当年来潮州做官 治理得很好 所以市民为了纪...</td>\n",
       "    </tr>\n",
       "    <tr>\n",
       "      <td>1936</td>\n",
       "      <td>A60</td>\n",
       "      <td>2015-12-17</td>\n",
       "      <td>从广济桥这边岸一直走过去湘江对岸，就可以直接上去韩公祠，里面其实很大的，需要慢慢逛。</td>\n",
       "    </tr>\n",
       "    <tr>\n",
       "      <td>1937</td>\n",
       "      <td>A60</td>\n",
       "      <td>2015-10-04</td>\n",
       "      <td>好，有意义！交通也方便！</td>\n",
       "    </tr>\n",
       "    <tr>\n",
       "      <td>1938</td>\n",
       "      <td>A60</td>\n",
       "      <td>2015-10-04</td>\n",
       "      <td>门票已经是20了。或者从师范学院绕过去，这个只是据说，我没试过</td>\n",
       "    </tr>\n",
       "  </tbody>\n",
       "</table>\n",
       "<p>1939 rows × 3 columns</p>\n",
       "</div>"
      ],
      "text/plain": [
       "     景区名称       评论日期                                               评论内容\n",
       "0     A51 2020-04-05  整体还可以，适合家人朋友一起出游，门票有点小贵，里面各项游乐设施均需要另外收费，这个季节花开...\n",
       "1     A51 2020-01-04  **生态园动物园这个地方挺好的，取票方便，服务态度又好，里面风景好，动物也好看，适合居家旅行...\n",
       "2     A51 2020-12-13  环境一个字差，服务态度差，特别是钓鱼的地方，当你钓鱼后向工作人员要一个塑料袋只会给你一个，当...\n",
       "3     A51 2020-10-06                                    你好，亲，有护士执业有免费吗？\n",
       "4     A51 2020-05-07                       景区里面还是太小了，没有什么好看和玩的。门票还要那么贵！\n",
       "...   ...        ...                                                ...\n",
       "1934  A60 2015-12-31          无数人的名字都是和**的名字或者是字有关，可以看出这里的人们是多么爱戴这位大伟人。\n",
       "1935  A60 2015-04-16  潮州很多路名 街名都与**有关**便是如此引文**当年来潮州做官 治理得很好 所以市民为了纪...\n",
       "1936  A60 2015-12-17         从广济桥这边岸一直走过去湘江对岸，就可以直接上去韩公祠，里面其实很大的，需要慢慢逛。\n",
       "1937  A60 2015-10-04                                       好，有意义！交通也方便！\n",
       "1938  A60 2015-10-04                    门票已经是20了。或者从师范学院绕过去，这个只是据说，我没试过\n",
       "\n",
       "[1939 rows x 3 columns]"
      ]
     },
     "execution_count": 60,
     "metadata": {},
     "output_type": "execute_result"
    }
   ],
   "source": [
    "import pandas as pd\n",
    "import jieba\n",
    "testjq = pd.read_excel('D:\\泰迪杯\\c题\\C题测试数据\\景区评论（测试数据）.xlsx')\n",
    "jqscore = pd.read_excel('D:/泰迪杯/c题/附件2/景区评分.xlsx')\n",
    "testjq"
   ]
  },
  {
   "cell_type": "code",
   "execution_count": 61,
   "metadata": {},
   "outputs": [],
   "source": [
    "testjq.index=testjq['景区名称']\n",
    "x = [f'A{x}{y}' for x in range(5,7) for y in range(0,10)][1:11]\n",
    "df = [testjq.loc[f'{x}']['评论内容'] for x in x]"
   ]
  },
  {
   "cell_type": "code",
   "execution_count": 62,
   "metadata": {},
   "outputs": [],
   "source": [
    "df=[str(i) for i in df]"
   ]
  },
  {
   "cell_type": "code",
   "execution_count": 63,
   "metadata": {},
   "outputs": [],
   "source": [
    "import re\n",
    "#加载停用词\n",
    "stoplist= [word.strip() for word in open('stopwords.txt',encoding='gb2312').readlines()]\n",
    "# print(stoplist)\n",
    "sentences_list = df\n",
    "# 对句子进行分词\n",
    "def seg_depart(sentence):\n",
    "    # 去掉非汉字字符\n",
    "    sentence = re.sub(r'[^\\u4e00-\\u9fa5]+','',sentence)\n",
    "    sentence_depart = jieba.cut(sentence.strip())\n",
    "    word_list = []\n",
    "    for word in sentence_depart:\n",
    "        if word not in stoplist:\n",
    "            word_list.append(word)\n",
    "    # 如果句子整个被过滤掉了，如：'02-2717:56'被过滤，那就返回[],保持句子的数量不变\n",
    "    return word_list\n",
    "\n",
    "sentence_word_list = []\n",
    "for sentence in sentences_list:\n",
    "    line_seg = seg_depart(sentence)\n",
    "    sentence_word_list.append(line_seg)\n",
    "\n",
    "df = sentences_list"
   ]
  },
  {
   "cell_type": "code",
   "execution_count": 64,
   "metadata": {},
   "outputs": [
    {
     "data": {
      "text/plain": [
       "scipy.sparse.csr.csr_matrix"
      ]
     },
     "execution_count": 64,
     "metadata": {},
     "output_type": "execute_result"
    }
   ],
   "source": [
    "from sklearn.feature_extraction.text import CountVectorizer,TfidfVectorizer\n",
    "from sklearn.feature_extraction.text import TfidfTransformer\n",
    " \n",
    "#该类会统计每个词语的tf-idf权值\n",
    "tf_idf_transformer = TfidfVectorizer()\n",
    "\n",
    "df = tf_idf_transformer.fit_transform(df)\n",
    "type(df)"
   ]
  },
  {
   "cell_type": "code",
   "execution_count": 65,
   "metadata": {},
   "outputs": [
    {
     "data": {
      "text/plain": [
       "<10x420 sparse matrix of type '<class 'numpy.float64'>'\n",
       "\twith 478 stored elements in Compressed Sparse Row format>"
      ]
     },
     "execution_count": 65,
     "metadata": {},
     "output_type": "execute_result"
    }
   ],
   "source": [
    "df"
   ]
  },
  {
   "cell_type": "code",
   "execution_count": 296,
   "metadata": {},
   "outputs": [
    {
     "data": {
      "text/plain": [
       "['B_model']"
      ]
     },
     "execution_count": 296,
     "metadata": {},
     "output_type": "execute_result"
    }
   ],
   "source": [
    "from sklearn.ensemble import BaggingRegressor\n",
    "model_BaggingRegressor = BaggingRegressor(n_estimators=27,max_samples=1.0,max_features=1.0,n_jobs=None)\n",
    "joblib.dump(model_BaggingRegressor,'B_model')"
   ]
  },
  {
   "cell_type": "code",
   "execution_count": 256,
   "metadata": {},
   "outputs": [],
   "source": [
    "from sklearn.externals import joblib\n",
    "y_test = jqscore.sample(n=10,axis=0)"
   ]
  },
  {
   "cell_type": "code",
   "execution_count": 257,
   "metadata": {},
   "outputs": [],
   "source": [
    "model = joblib.load('B_model')#加载模型"
   ]
  },
  {
   "cell_type": "code",
   "execution_count": 260,
   "metadata": {},
   "outputs": [
    {
     "name": "stdout",
     "output_type": "stream",
     "text": [
      "总得分得分评分： [4.55148148 4.71314815 4.59       4.5762963  4.44314815 4.44944444\n",
      " 4.53018519 4.31666667 4.72722222 4.56277778]\n"
     ]
    }
   ],
   "source": [
    "y_test1 = y_test['总得分']\n",
    "model.fit(df,y_test1)\n",
    "y_hat1 = model.predict(df)\n",
    "print(\"总得分得分评分：\",y_hat1)"
   ]
  },
  {
   "cell_type": "code",
   "execution_count": 261,
   "metadata": {},
   "outputs": [
    {
     "name": "stdout",
     "output_type": "stream",
     "text": [
      "服务得分： [3.95185185 4.51111111 3.9037037  3.89259259 4.02222222 3.84074074\n",
      " 4.16296296 3.9        4.41111111 3.8962963 ]\n"
     ]
    }
   ],
   "source": [
    "y_test2 = y_test['服务得分']\n",
    "model.fit(df,y_test2)\n",
    "y_hat2 = model.predict(df)\n",
    "print(\"服务得分：\",y_hat2)"
   ]
  },
  {
   "cell_type": "code",
   "execution_count": 262,
   "metadata": {},
   "outputs": [
    {
     "name": "stdout",
     "output_type": "stream",
     "text": [
      "位置得分： [4.9        4.9        4.9        4.9        4.9        4.9\n",
      " 4.75185185 4.51111111 4.9        4.9       ]\n"
     ]
    }
   ],
   "source": [
    "y_test3 = y_test['位置得分']\n",
    "model.fit(df,y_test3)\n",
    "y_hat3 = model.predict(df)\n",
    "print(\"位置得分：\",y_hat3)"
   ]
  },
  {
   "cell_type": "code",
   "execution_count": 263,
   "metadata": {},
   "outputs": [
    {
     "name": "stdout",
     "output_type": "stream",
     "text": [
      "设施得分： [4.7        4.6        4.86666667 4.86666667 4.67407407 4.4\n",
      " 4.35555556 4.21111111 4.72222222 4.83333333]\n"
     ]
    }
   ],
   "source": [
    "y_test4 = y_test['设施得分']\n",
    "model.fit(df,y_test4)\n",
    "y_hat4 = model.predict(df)\n",
    "print(\"设施得分：\",y_hat4)"
   ]
  },
  {
   "cell_type": "code",
   "execution_count": 264,
   "metadata": {},
   "outputs": [
    {
     "name": "stdout",
     "output_type": "stream",
     "text": [
      "卫生得分： [4.9        4.9        4.9        4.9        4.43333333 4.9\n",
      " 4.9        4.66296296 4.9        4.9       ]\n"
     ]
    }
   ],
   "source": [
    "y_test5 = y_test['卫生得分']\n",
    "model.fit(df,y_test5)\n",
    "y_hat5 = model.predict(df)\n",
    "print(\"卫生得分：\",y_hat5)"
   ]
  },
  {
   "cell_type": "code",
   "execution_count": 265,
   "metadata": {},
   "outputs": [
    {
     "name": "stdout",
     "output_type": "stream",
     "text": [
      "性价比得分： [4.61111111 4.84444444 4.78518519 4.72222222 4.77407407 4.61481481\n",
      " 4.71111111 4.61851852 4.7962963  4.63333333]\n"
     ]
    }
   ],
   "source": [
    "y_test6 = y_test['性价比得分']\n",
    "model.fit(df,y_test6)\n",
    "y_hat6 = model.predict(df)\n",
    "print(\"性价比得分：\",y_hat6)"
   ]
  },
  {
   "cell_type": "code",
   "execution_count": 288,
   "metadata": {},
   "outputs": [],
   "source": [
    "import pandas as pd\n",
    "dataset = pd.DataFrame({'景区名称':x,'总得分': y_hat1, '服务得分': y_hat2, '位置得分': y_hat3, '设施得分': y_hat4, '卫生得分': y_hat5, '性价比得分': y_hat6,})"
   ]
  },
  {
   "cell_type": "code",
   "execution_count": 294,
   "metadata": {},
   "outputs": [
    {
     "data": {
      "text/html": [
       "<div>\n",
       "<style scoped>\n",
       "    .dataframe tbody tr th:only-of-type {\n",
       "        vertical-align: middle;\n",
       "    }\n",
       "\n",
       "    .dataframe tbody tr th {\n",
       "        vertical-align: top;\n",
       "    }\n",
       "\n",
       "    .dataframe thead th {\n",
       "        text-align: right;\n",
       "    }\n",
       "</style>\n",
       "<table border=\"1\" class=\"dataframe\">\n",
       "  <thead>\n",
       "    <tr style=\"text-align: right;\">\n",
       "      <th></th>\n",
       "      <th>总得分</th>\n",
       "      <th>服务得分</th>\n",
       "      <th>位置得分</th>\n",
       "      <th>设施得分</th>\n",
       "      <th>卫生得分</th>\n",
       "      <th>性价比得分</th>\n",
       "    </tr>\n",
       "    <tr>\n",
       "      <th>景区名称</th>\n",
       "      <th></th>\n",
       "      <th></th>\n",
       "      <th></th>\n",
       "      <th></th>\n",
       "      <th></th>\n",
       "      <th></th>\n",
       "    </tr>\n",
       "  </thead>\n",
       "  <tbody>\n",
       "    <tr>\n",
       "      <td>A51</td>\n",
       "      <td>4.551481</td>\n",
       "      <td>3.951852</td>\n",
       "      <td>4.900000</td>\n",
       "      <td>4.700000</td>\n",
       "      <td>4.900000</td>\n",
       "      <td>4.611111</td>\n",
       "    </tr>\n",
       "    <tr>\n",
       "      <td>A52</td>\n",
       "      <td>4.713148</td>\n",
       "      <td>4.511111</td>\n",
       "      <td>4.900000</td>\n",
       "      <td>4.600000</td>\n",
       "      <td>4.900000</td>\n",
       "      <td>4.844444</td>\n",
       "    </tr>\n",
       "    <tr>\n",
       "      <td>A53</td>\n",
       "      <td>4.590000</td>\n",
       "      <td>3.903704</td>\n",
       "      <td>4.900000</td>\n",
       "      <td>4.866667</td>\n",
       "      <td>4.900000</td>\n",
       "      <td>4.785185</td>\n",
       "    </tr>\n",
       "    <tr>\n",
       "      <td>A54</td>\n",
       "      <td>4.576296</td>\n",
       "      <td>3.892593</td>\n",
       "      <td>4.900000</td>\n",
       "      <td>4.866667</td>\n",
       "      <td>4.900000</td>\n",
       "      <td>4.722222</td>\n",
       "    </tr>\n",
       "    <tr>\n",
       "      <td>A55</td>\n",
       "      <td>4.443148</td>\n",
       "      <td>4.022222</td>\n",
       "      <td>4.900000</td>\n",
       "      <td>4.674074</td>\n",
       "      <td>4.433333</td>\n",
       "      <td>4.774074</td>\n",
       "    </tr>\n",
       "    <tr>\n",
       "      <td>A56</td>\n",
       "      <td>4.449444</td>\n",
       "      <td>3.840741</td>\n",
       "      <td>4.900000</td>\n",
       "      <td>4.400000</td>\n",
       "      <td>4.900000</td>\n",
       "      <td>4.614815</td>\n",
       "    </tr>\n",
       "    <tr>\n",
       "      <td>A57</td>\n",
       "      <td>4.530185</td>\n",
       "      <td>4.162963</td>\n",
       "      <td>4.751852</td>\n",
       "      <td>4.355556</td>\n",
       "      <td>4.900000</td>\n",
       "      <td>4.711111</td>\n",
       "    </tr>\n",
       "    <tr>\n",
       "      <td>A58</td>\n",
       "      <td>4.316667</td>\n",
       "      <td>3.900000</td>\n",
       "      <td>4.511111</td>\n",
       "      <td>4.211111</td>\n",
       "      <td>4.662963</td>\n",
       "      <td>4.618519</td>\n",
       "    </tr>\n",
       "    <tr>\n",
       "      <td>A59</td>\n",
       "      <td>4.727222</td>\n",
       "      <td>4.411111</td>\n",
       "      <td>4.900000</td>\n",
       "      <td>4.722222</td>\n",
       "      <td>4.900000</td>\n",
       "      <td>4.796296</td>\n",
       "    </tr>\n",
       "    <tr>\n",
       "      <td>A60</td>\n",
       "      <td>4.562778</td>\n",
       "      <td>3.896296</td>\n",
       "      <td>4.900000</td>\n",
       "      <td>4.833333</td>\n",
       "      <td>4.900000</td>\n",
       "      <td>4.633333</td>\n",
       "    </tr>\n",
       "  </tbody>\n",
       "</table>\n",
       "</div>"
      ],
      "text/plain": [
       "           总得分      服务得分      位置得分      设施得分      卫生得分     性价比得分\n",
       "景区名称                                                            \n",
       "A51   4.551481  3.951852  4.900000  4.700000  4.900000  4.611111\n",
       "A52   4.713148  4.511111  4.900000  4.600000  4.900000  4.844444\n",
       "A53   4.590000  3.903704  4.900000  4.866667  4.900000  4.785185\n",
       "A54   4.576296  3.892593  4.900000  4.866667  4.900000  4.722222\n",
       "A55   4.443148  4.022222  4.900000  4.674074  4.433333  4.774074\n",
       "A56   4.449444  3.840741  4.900000  4.400000  4.900000  4.614815\n",
       "A57   4.530185  4.162963  4.751852  4.355556  4.900000  4.711111\n",
       "A58   4.316667  3.900000  4.511111  4.211111  4.662963  4.618519\n",
       "A59   4.727222  4.411111  4.900000  4.722222  4.900000  4.796296\n",
       "A60   4.562778  3.896296  4.900000  4.833333  4.900000  4.633333"
      ]
     },
     "execution_count": 294,
     "metadata": {},
     "output_type": "execute_result"
    }
   ],
   "source": [
    "dataset.set_index(['景区名称'],inplace=True)\n",
    "dataset"
   ]
  },
  {
   "cell_type": "code",
   "execution_count": 295,
   "metadata": {},
   "outputs": [],
   "source": [
    "dataset.to_excel('景区评分.xlsx')"
   ]
  },
  {
   "cell_type": "code",
   "execution_count": null,
   "metadata": {},
   "outputs": [],
   "source": []
  }
 ],
 "metadata": {
  "kernelspec": {
   "display_name": "Python 3",
   "language": "python",
   "name": "python3"
  },
  "language_info": {
   "codemirror_mode": {
    "name": "ipython",
    "version": 3
   },
   "file_extension": ".py",
   "mimetype": "text/x-python",
   "name": "python",
   "nbconvert_exporter": "python",
   "pygments_lexer": "ipython3",
   "version": "3.7.4"
  }
 },
 "nbformat": 4,
 "nbformat_minor": 2
}
