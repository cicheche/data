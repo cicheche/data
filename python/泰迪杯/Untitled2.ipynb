{
 "cells": [
  {
   "cell_type": "code",
   "execution_count": 1,
   "metadata": {},
   "outputs": [],
   "source": [
    "import pandas as pd"
   ]
  },
  {
   "cell_type": "code",
   "execution_count": 2,
   "metadata": {},
   "outputs": [],
   "source": [
    "data = pd.read_excel('非洲通讯产品销售数据.xlsx')"
   ]
  },
  {
   "cell_type": "code",
   "execution_count": 9,
   "metadata": {},
   "outputs": [
    {
     "name": "stdout",
     "output_type": "stream",
     "text": [
      "<class 'pandas.core.frame.DataFrame'>\n",
      "RangeIndex: 1056 entries, 0 to 1055\n",
      "Data columns (total 7 columns):\n",
      "日期      1056 non-null datetime64[ns]\n",
      "国家      1056 non-null object\n",
      "城市      1056 non-null object\n",
      "地区      1056 non-null object\n",
      "服务分类    1056 non-null object\n",
      "销售额     1056 non-null float64\n",
      "利润      1056 non-null float64\n",
      "dtypes: datetime64[ns](1), float64(2), object(4)\n",
      "memory usage: 57.9+ KB\n"
     ]
    }
   ],
   "source": [
    "data.info()"
   ]
  },
  {
   "cell_type": "code",
   "execution_count": 5,
   "metadata": {},
   "outputs": [
    {
     "data": {
      "text/html": [
       "<div>\n",
       "<style scoped>\n",
       "    .dataframe tbody tr th:only-of-type {\n",
       "        vertical-align: middle;\n",
       "    }\n",
       "\n",
       "    .dataframe tbody tr th {\n",
       "        vertical-align: top;\n",
       "    }\n",
       "\n",
       "    .dataframe thead th {\n",
       "        text-align: right;\n",
       "    }\n",
       "</style>\n",
       "<table border=\"1\" class=\"dataframe\">\n",
       "  <thead>\n",
       "    <tr style=\"text-align: right;\">\n",
       "      <th></th>\n",
       "      <th>国家</th>\n",
       "      <th>销售额</th>\n",
       "      <th>利润</th>\n",
       "    </tr>\n",
       "  </thead>\n",
       "  <tbody>\n",
       "    <tr>\n",
       "      <td>0</td>\n",
       "      <td>Cote d'Ivoire</td>\n",
       "      <td>656.96</td>\n",
       "      <td>6.57</td>\n",
       "    </tr>\n",
       "    <tr>\n",
       "      <td>1</td>\n",
       "      <td>Madagascar</td>\n",
       "      <td>875.94</td>\n",
       "      <td>-70.08</td>\n",
       "    </tr>\n",
       "    <tr>\n",
       "      <td>2</td>\n",
       "      <td>Rwanda</td>\n",
       "      <td>258.35</td>\n",
       "      <td>18.08</td>\n",
       "    </tr>\n",
       "    <tr>\n",
       "      <td>3</td>\n",
       "      <td>Zimbabwe</td>\n",
       "      <td>875.62</td>\n",
       "      <td>-35.02</td>\n",
       "    </tr>\n",
       "    <tr>\n",
       "      <td>4</td>\n",
       "      <td>Ethiopia</td>\n",
       "      <td>509.93</td>\n",
       "      <td>10.20</td>\n",
       "    </tr>\n",
       "    <tr>\n",
       "      <td>...</td>\n",
       "      <td>...</td>\n",
       "      <td>...</td>\n",
       "      <td>...</td>\n",
       "    </tr>\n",
       "    <tr>\n",
       "      <td>1051</td>\n",
       "      <td>Zimbabwe</td>\n",
       "      <td>394.28</td>\n",
       "      <td>-23.66</td>\n",
       "    </tr>\n",
       "    <tr>\n",
       "      <td>1052</td>\n",
       "      <td>Malawi</td>\n",
       "      <td>333.07</td>\n",
       "      <td>-16.65</td>\n",
       "    </tr>\n",
       "    <tr>\n",
       "      <td>1053</td>\n",
       "      <td>Liberia</td>\n",
       "      <td>133.26</td>\n",
       "      <td>-8.00</td>\n",
       "    </tr>\n",
       "    <tr>\n",
       "      <td>1054</td>\n",
       "      <td>Kenya</td>\n",
       "      <td>737.57</td>\n",
       "      <td>36.88</td>\n",
       "    </tr>\n",
       "    <tr>\n",
       "      <td>1055</td>\n",
       "      <td>United Republic of Tanzania</td>\n",
       "      <td>859.82</td>\n",
       "      <td>-60.19</td>\n",
       "    </tr>\n",
       "  </tbody>\n",
       "</table>\n",
       "<p>1056 rows × 3 columns</p>\n",
       "</div>"
      ],
      "text/plain": [
       "                               国家     销售额     利润\n",
       "0                   Cote d'Ivoire  656.96   6.57\n",
       "1                      Madagascar  875.94 -70.08\n",
       "2                          Rwanda  258.35  18.08\n",
       "3                        Zimbabwe  875.62 -35.02\n",
       "4                        Ethiopia  509.93  10.20\n",
       "...                           ...     ...    ...\n",
       "1051                     Zimbabwe  394.28 -23.66\n",
       "1052                       Malawi  333.07 -16.65\n",
       "1053                      Liberia  133.26  -8.00\n",
       "1054                        Kenya  737.57  36.88\n",
       "1055  United Republic of Tanzania  859.82 -60.19\n",
       "\n",
       "[1056 rows x 3 columns]"
      ]
     },
     "execution_count": 5,
     "metadata": {},
     "output_type": "execute_result"
    }
   ],
   "source": [
    "sales_province = data[['国家','销售额','利润']]\n",
    "sales_province"
   ]
  },
  {
   "cell_type": "code",
   "execution_count": 8,
   "metadata": {},
   "outputs": [],
   "source": [
    "sales_province.to_csv('sales_province.csv')"
   ]
  },
  {
   "cell_type": "code",
   "execution_count": null,
   "metadata": {},
   "outputs": [],
   "source": []
  }
 ],
 "metadata": {
  "kernelspec": {
   "display_name": "Python 3",
   "language": "python",
   "name": "python3"
  },
  "language_info": {
   "codemirror_mode": {
    "name": "ipython",
    "version": 3
   },
   "file_extension": ".py",
   "mimetype": "text/x-python",
   "name": "python",
   "nbconvert_exporter": "python",
   "pygments_lexer": "ipython3",
   "version": "3.7.4"
  }
 },
 "nbformat": 4,
 "nbformat_minor": 2
}
