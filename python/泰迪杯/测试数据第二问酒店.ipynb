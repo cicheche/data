{
 "cells": [
  {
   "cell_type": "code",
   "execution_count": 182,
   "metadata": {},
   "outputs": [
    {
     "data": {
      "text/html": [
       "<div>\n",
       "<style scoped>\n",
       "    .dataframe tbody tr th:only-of-type {\n",
       "        vertical-align: middle;\n",
       "    }\n",
       "\n",
       "    .dataframe tbody tr th {\n",
       "        vertical-align: top;\n",
       "    }\n",
       "\n",
       "    .dataframe thead th {\n",
       "        text-align: right;\n",
       "    }\n",
       "</style>\n",
       "<table border=\"1\" class=\"dataframe\">\n",
       "  <thead>\n",
       "    <tr style=\"text-align: right;\">\n",
       "      <th></th>\n",
       "      <th>酒店名称</th>\n",
       "      <th>评论日期</th>\n",
       "      <th>评论内容</th>\n",
       "      <th>入住房型</th>\n",
       "    </tr>\n",
       "  </thead>\n",
       "  <tbody>\n",
       "    <tr>\n",
       "      <td>0</td>\n",
       "      <td>H51</td>\n",
       "      <td>2020-01-02</td>\n",
       "      <td>前台服务态度非常好，很尽责 讲的很详细 房间还有水果糖水 很棒</td>\n",
       "      <td>典雅园林大床房</td>\n",
       "    </tr>\n",
       "    <tr>\n",
       "      <td>1</td>\n",
       "      <td>H51</td>\n",
       "      <td>2020-01-02</td>\n",
       "      <td>温泉很舒服、大堂很气派 前台服务态度非常非常非常非常好</td>\n",
       "      <td>典雅园林大床房</td>\n",
       "    </tr>\n",
       "    <tr>\n",
       "      <td>2</td>\n",
       "      <td>H51</td>\n",
       "      <td>2020-01-02</td>\n",
       "      <td>环境优美，服务人员很热情 、</td>\n",
       "      <td>豪华园林大床房</td>\n",
       "    </tr>\n",
       "    <tr>\n",
       "      <td>3</td>\n",
       "      <td>H51</td>\n",
       "      <td>2020-01-04</td>\n",
       "      <td>环境很好 服务态度好 房间很好 ！</td>\n",
       "      <td>典雅园林双床房</td>\n",
       "    </tr>\n",
       "    <tr>\n",
       "      <td>4</td>\n",
       "      <td>H51</td>\n",
       "      <td>2020-01-04</td>\n",
       "      <td>住的环境还行，唯一不好的是洗脸盆，有黄印子在上面，看起来有点恶心，游泳池没开放，热矿泉温度个...</td>\n",
       "      <td>猪猪侠酷芽亲子家庭房</td>\n",
       "    </tr>\n",
       "    <tr>\n",
       "      <td>...</td>\n",
       "      <td>...</td>\n",
       "      <td>...</td>\n",
       "      <td>...</td>\n",
       "      <td>...</td>\n",
       "    </tr>\n",
       "    <tr>\n",
       "      <td>3031</td>\n",
       "      <td>H60</td>\n",
       "      <td>2020-08-23</td>\n",
       "      <td>酒店干净舒适，交通算方便，下次去还会去住</td>\n",
       "      <td>贵宾楼特惠大床房</td>\n",
       "    </tr>\n",
       "    <tr>\n",
       "      <td>3032</td>\n",
       "      <td>H60</td>\n",
       "      <td>2020-08-23</td>\n",
       "      <td>因為一早要在拱北醫院檢查，臨時訂的。感覺還是可以的。價格也算公道，也不需要去挑剔過多的。</td>\n",
       "      <td>主楼豪华大床房</td>\n",
       "    </tr>\n",
       "    <tr>\n",
       "      <td>3033</td>\n",
       "      <td>H60</td>\n",
       "      <td>2020-08-23</td>\n",
       "      <td>不错，还好吧</td>\n",
       "      <td>贵宾楼贵宾大床房</td>\n",
       "    </tr>\n",
       "    <tr>\n",
       "      <td>3034</td>\n",
       "      <td>H60</td>\n",
       "      <td>2020-08-23</td>\n",
       "      <td>房间太小了</td>\n",
       "      <td>主楼特价大床房</td>\n",
       "    </tr>\n",
       "    <tr>\n",
       "      <td>3035</td>\n",
       "      <td>H60</td>\n",
       "      <td>2020-08-24</td>\n",
       "      <td>早餐品种不多，硬件不错，服务很好</td>\n",
       "      <td>贵宾楼特惠双床房</td>\n",
       "    </tr>\n",
       "  </tbody>\n",
       "</table>\n",
       "<p>3036 rows × 4 columns</p>\n",
       "</div>"
      ],
      "text/plain": [
       "     酒店名称        评论日期                                               评论内容  \\\n",
       "0     H51  2020-01-02                    前台服务态度非常好，很尽责 讲的很详细 房间还有水果糖水 很棒   \n",
       "1     H51  2020-01-02                        温泉很舒服、大堂很气派 前台服务态度非常非常非常非常好   \n",
       "2     H51  2020-01-02                                     环境优美，服务人员很热情 、   \n",
       "3     H51  2020-01-04                                  环境很好 服务态度好 房间很好 ！   \n",
       "4     H51  2020-01-04  住的环境还行，唯一不好的是洗脸盆，有黄印子在上面，看起来有点恶心，游泳池没开放，热矿泉温度个...   \n",
       "...   ...         ...                                                ...   \n",
       "3031  H60  2020-08-23                               酒店干净舒适，交通算方便，下次去还会去住   \n",
       "3032  H60  2020-08-23       因為一早要在拱北醫院檢查，臨時訂的。感覺還是可以的。價格也算公道，也不需要去挑剔過多的。   \n",
       "3033  H60  2020-08-23                                             不错，还好吧   \n",
       "3034  H60  2020-08-23                                              房间太小了   \n",
       "3035  H60  2020-08-24                                   早餐品种不多，硬件不错，服务很好   \n",
       "\n",
       "            入住房型  \n",
       "0        典雅园林大床房  \n",
       "1        典雅园林大床房  \n",
       "2        豪华园林大床房  \n",
       "3        典雅园林双床房  \n",
       "4     猪猪侠酷芽亲子家庭房  \n",
       "...          ...  \n",
       "3031    贵宾楼特惠大床房  \n",
       "3032     主楼豪华大床房  \n",
       "3033    贵宾楼贵宾大床房  \n",
       "3034     主楼特价大床房  \n",
       "3035    贵宾楼特惠双床房  \n",
       "\n",
       "[3036 rows x 4 columns]"
      ]
     },
     "execution_count": 182,
     "metadata": {},
     "output_type": "execute_result"
    }
   ],
   "source": [
    "import pandas as pd\n",
    "import jieba\n",
    "testjd = pd.read_excel('D:\\泰迪杯\\c题\\C题测试数据\\酒店评论（测试数据）.xlsx')\n",
    "jdscore = pd.read_excel('D:/泰迪杯/c题/附件2/酒店评分.xlsx')\n",
    "testjd"
   ]
  },
  {
   "cell_type": "code",
   "execution_count": 186,
   "metadata": {},
   "outputs": [
    {
     "data": {
      "text/plain": [
       "0                         前台服务态度非常好，很尽责 讲的很详细 房间还有水果糖水 很棒\n",
       "1                             温泉很舒服、大堂很气派 前台服务态度非常非常非常非常好\n",
       "2                                          环境优美，服务人员很热情 、\n",
       "3                                       环境很好 服务态度好 房间很好 ！\n",
       "4       住的环境还行，唯一不好的是洗脸盆，有黄印子在上面，看起来有点恶心，游泳池没开放，热矿泉温度个...\n",
       "                              ...                        \n",
       "2734                                 酒店干净舒适，交通算方便，下次去还会去住\n",
       "2735         因為一早要在拱北醫院檢查，臨時訂的。感覺還是可以的。價格也算公道，也不需要去挑剔過多的。\n",
       "2736                                               不错，还好吧\n",
       "2737                                                房间太小了\n",
       "2738                                     早餐品种不多，硬件不错，服务很好\n",
       "Name: 评论内容, Length: 2633, dtype: object"
      ]
     },
     "execution_count": 186,
     "metadata": {},
     "output_type": "execute_result"
    }
   ],
   "source": [
    "df = testjd['评论内容']\n",
    "df.duplicated()\n",
    "df.drop_duplicates()"
   ]
  },
  {
   "cell_type": "code",
   "execution_count": 187,
   "metadata": {},
   "outputs": [],
   "source": [
    "testjd.index=testjd['酒店名称']\n",
    "x = [f'H{x}{y}' for x in range(5,7) for y in range(0,10)][1:11]\n",
    "df = [testjd.loc[f'{x}']['评论内容'] for x in x]"
   ]
  },
  {
   "cell_type": "code",
   "execution_count": 188,
   "metadata": {},
   "outputs": [],
   "source": [
    "df=[str(i) for i in df]"
   ]
  },
  {
   "cell_type": "code",
   "execution_count": 189,
   "metadata": {},
   "outputs": [],
   "source": [
    "import re\n",
    "#加载停用词\n",
    "stoplist= [word.strip() for word in open('stopwords.txt',encoding='gb2312').readlines()]\n",
    "# print(stoplist)\n",
    "sentences_list = df\n",
    "# 对句子进行分词\n",
    "def seg_depart(sentence):\n",
    "    # 去掉非汉字字符\n",
    "    sentence = re.sub(r'[^\\u4e00-\\u9fa5]+','',sentence)\n",
    "    sentence_depart = jieba.cut(sentence.strip())\n",
    "    word_list = []\n",
    "    for word in sentence_depart:\n",
    "        if word not in stoplist:\n",
    "            word_list.append(word)\n",
    "    # 如果句子整个被过滤掉了，如：'02-2717:56'被过滤，那就返回[],保持句子的数量不变\n",
    "    return word_list\n",
    "\n",
    "sentence_word_list = []\n",
    "for sentence in sentences_list:\n",
    "    line_seg = seg_depart(sentence)\n",
    "    sentence_word_list.append(line_seg)\n",
    "\n",
    "df = sentences_list"
   ]
  },
  {
   "cell_type": "code",
   "execution_count": 190,
   "metadata": {},
   "outputs": [
    {
     "data": {
      "text/plain": [
       "scipy.sparse.csr.csr_matrix"
      ]
     },
     "execution_count": 190,
     "metadata": {},
     "output_type": "execute_result"
    }
   ],
   "source": [
    "from sklearn.feature_extraction.text import CountVectorizer,TfidfVectorizer\n",
    "from sklearn.feature_extraction.text import TfidfTransformer\n",
    " \n",
    "#该类会统计每个词语的tf-idf权值\n",
    "tf_idf_transformer = TfidfVectorizer()\n",
    "\n",
    "df = tf_idf_transformer.fit_transform(df)\n",
    "type(df)"
   ]
  },
  {
   "cell_type": "code",
   "execution_count": 191,
   "metadata": {},
   "outputs": [],
   "source": [
    "from sklearn.externals import joblib\n",
    "y_test = jdscore.sample(n=10,axis=0)"
   ]
  },
  {
   "cell_type": "code",
   "execution_count": 400,
   "metadata": {},
   "outputs": [
    {
     "data": {
      "text/plain": [
       "['B1_model']"
      ]
     },
     "execution_count": 400,
     "metadata": {},
     "output_type": "execute_result"
    }
   ],
   "source": [
    "from sklearn.ensemble import BaggingRegressor\n",
    "model_BaggingRegressor = BaggingRegressor(n_estimators=27,max_samples=1.0,max_features=1.0,n_jobs=None)\n",
    "joblib.dump(model_BaggingRegressor,'B1_model')"
   ]
  },
  {
   "cell_type": "code",
   "execution_count": 401,
   "metadata": {},
   "outputs": [],
   "source": [
    "model = joblib.load('B1_model')#加载模型"
   ]
  },
  {
   "cell_type": "code",
   "execution_count": 402,
   "metadata": {},
   "outputs": [
    {
     "name": "stdout",
     "output_type": "stream",
     "text": [
      "总得分得分评分： [4.77407407 4.6962963  4.70740741 4.77407407 4.75555556 4.62222222\n",
      " 4.63333333 4.75925926 4.69259259 4.71481481]\n"
     ]
    }
   ],
   "source": [
    "y_test1 = y_test['总得分']\n",
    "model.fit(df,y_test1)\n",
    "y_hat1 = model.predict(df)\n",
    "print(\"总得分得分评分：\",y_hat1)"
   ]
  },
  {
   "cell_type": "code",
   "execution_count": 403,
   "metadata": {},
   "outputs": [
    {
     "data": {
      "text/plain": [
       "0.8762982559278827"
      ]
     },
     "execution_count": 403,
     "metadata": {},
     "output_type": "execute_result"
    }
   ],
   "source": [
    "model.score(df,y_test1)"
   ]
  },
  {
   "cell_type": "code",
   "execution_count": 404,
   "metadata": {},
   "outputs": [
    {
     "name": "stdout",
     "output_type": "stream",
     "text": [
      "服务得分： [4.77037037 4.7        4.68888889 4.76296296 4.80740741 4.64814815\n",
      " 4.63333333 4.6962963  4.7        4.70740741]\n"
     ]
    }
   ],
   "source": [
    "y_test2 = y_test['服务得分']\n",
    "model.fit(df,y_test2)\n",
    "y_hat2 = model.predict(df)\n",
    "print(\"服务得分：\",y_hat2)"
   ]
  },
  {
   "cell_type": "code",
   "execution_count": 405,
   "metadata": {},
   "outputs": [
    {
     "name": "stdout",
     "output_type": "stream",
     "text": [
      "位置得分： [4.79259259 4.78518519 4.78888889 4.78148148 4.78518519 4.73703704\n",
      " 4.72592593 4.78888889 4.78518519 4.73703704]\n"
     ]
    }
   ],
   "source": [
    "y_test3 = y_test['位置得分']\n",
    "model.fit(df,y_test3)\n",
    "y_hat3 = model.predict(df)\n",
    "print(\"位置得分：\",y_hat3)"
   ]
  },
  {
   "cell_type": "code",
   "execution_count": 406,
   "metadata": {},
   "outputs": [
    {
     "name": "stdout",
     "output_type": "stream",
     "text": [
      "设施得分： [4.73703704 4.61851852 4.64444444 4.73333333 4.73333333 4.58148148\n",
      " 4.6        4.79259259 4.70740741 4.67037037]\n"
     ]
    }
   ],
   "source": [
    "y_test4 = y_test['设施得分']\n",
    "model.fit(df,y_test4)\n",
    "y_hat4 = model.predict(df)\n",
    "print(\"设施得分：\",y_hat4)"
   ]
  },
  {
   "cell_type": "code",
   "execution_count": 407,
   "metadata": {},
   "outputs": [
    {
     "name": "stdout",
     "output_type": "stream",
     "text": [
      "卫生得分： [4.85925926 4.73703704 4.74444444 4.82222222 4.84074074 4.74444444\n",
      " 4.74074074 4.85555556 4.78888889 4.64074074]\n"
     ]
    }
   ],
   "source": [
    "y_test5 = y_test['卫生得分']\n",
    "model.fit(df,y_test5)\n",
    "y_hat5 = model.predict(df)\n",
    "print(\"卫生得分：\",y_hat5)"
   ]
  },
  {
   "cell_type": "code",
   "execution_count": 408,
   "metadata": {},
   "outputs": [
    {
     "name": "stdout",
     "output_type": "stream",
     "text": [
      "性价比得分： [4.02962963 4.12222222 4.         4.01481481 4.08148148 4.\n",
      " 4.01481481 4.         4.03703704 4.13333333]\n"
     ]
    }
   ],
   "source": [
    "y_test6 = y_test['性价比得分']\n",
    "model.fit(df,y_test6)\n",
    "y_hat6 = model.predict(df)\n",
    "print(\"性价比得分：\",y_hat6)"
   ]
  },
  {
   "cell_type": "code",
   "execution_count": 413,
   "metadata": {},
   "outputs": [],
   "source": [
    "x = [f'H{x}{y}' for x in range(5,7) for y in range(0,10)][1:11]"
   ]
  },
  {
   "cell_type": "code",
   "execution_count": 414,
   "metadata": {},
   "outputs": [],
   "source": [
    "import pandas as pd\n",
    "dataset = pd.DataFrame({'酒店名称':x,'总得分': y_hat1, '服务得分': y_hat2, '位置得分': y_hat3, '设施得分': y_hat4, '卫生得分': y_hat5, '性价比得分': y_hat6,})"
   ]
  },
  {
   "cell_type": "code",
   "execution_count": 415,
   "metadata": {},
   "outputs": [
    {
     "data": {
      "text/html": [
       "<div>\n",
       "<style scoped>\n",
       "    .dataframe tbody tr th:only-of-type {\n",
       "        vertical-align: middle;\n",
       "    }\n",
       "\n",
       "    .dataframe tbody tr th {\n",
       "        vertical-align: top;\n",
       "    }\n",
       "\n",
       "    .dataframe thead th {\n",
       "        text-align: right;\n",
       "    }\n",
       "</style>\n",
       "<table border=\"1\" class=\"dataframe\">\n",
       "  <thead>\n",
       "    <tr style=\"text-align: right;\">\n",
       "      <th></th>\n",
       "      <th>总得分</th>\n",
       "      <th>服务得分</th>\n",
       "      <th>位置得分</th>\n",
       "      <th>设施得分</th>\n",
       "      <th>卫生得分</th>\n",
       "      <th>性价比得分</th>\n",
       "    </tr>\n",
       "    <tr>\n",
       "      <th>酒店名称</th>\n",
       "      <th></th>\n",
       "      <th></th>\n",
       "      <th></th>\n",
       "      <th></th>\n",
       "      <th></th>\n",
       "      <th></th>\n",
       "    </tr>\n",
       "  </thead>\n",
       "  <tbody>\n",
       "    <tr>\n",
       "      <td>H51</td>\n",
       "      <td>4.774074</td>\n",
       "      <td>4.770370</td>\n",
       "      <td>4.792593</td>\n",
       "      <td>4.737037</td>\n",
       "      <td>4.859259</td>\n",
       "      <td>4.029630</td>\n",
       "    </tr>\n",
       "    <tr>\n",
       "      <td>H52</td>\n",
       "      <td>4.696296</td>\n",
       "      <td>4.700000</td>\n",
       "      <td>4.785185</td>\n",
       "      <td>4.618519</td>\n",
       "      <td>4.737037</td>\n",
       "      <td>4.122222</td>\n",
       "    </tr>\n",
       "    <tr>\n",
       "      <td>H53</td>\n",
       "      <td>4.707407</td>\n",
       "      <td>4.688889</td>\n",
       "      <td>4.788889</td>\n",
       "      <td>4.644444</td>\n",
       "      <td>4.744444</td>\n",
       "      <td>4.000000</td>\n",
       "    </tr>\n",
       "    <tr>\n",
       "      <td>H54</td>\n",
       "      <td>4.774074</td>\n",
       "      <td>4.762963</td>\n",
       "      <td>4.781481</td>\n",
       "      <td>4.733333</td>\n",
       "      <td>4.822222</td>\n",
       "      <td>4.014815</td>\n",
       "    </tr>\n",
       "    <tr>\n",
       "      <td>H55</td>\n",
       "      <td>4.755556</td>\n",
       "      <td>4.807407</td>\n",
       "      <td>4.785185</td>\n",
       "      <td>4.733333</td>\n",
       "      <td>4.840741</td>\n",
       "      <td>4.081481</td>\n",
       "    </tr>\n",
       "    <tr>\n",
       "      <td>H56</td>\n",
       "      <td>4.622222</td>\n",
       "      <td>4.648148</td>\n",
       "      <td>4.737037</td>\n",
       "      <td>4.581481</td>\n",
       "      <td>4.744444</td>\n",
       "      <td>4.000000</td>\n",
       "    </tr>\n",
       "    <tr>\n",
       "      <td>H57</td>\n",
       "      <td>4.633333</td>\n",
       "      <td>4.633333</td>\n",
       "      <td>4.725926</td>\n",
       "      <td>4.600000</td>\n",
       "      <td>4.740741</td>\n",
       "      <td>4.014815</td>\n",
       "    </tr>\n",
       "    <tr>\n",
       "      <td>H58</td>\n",
       "      <td>4.759259</td>\n",
       "      <td>4.696296</td>\n",
       "      <td>4.788889</td>\n",
       "      <td>4.792593</td>\n",
       "      <td>4.855556</td>\n",
       "      <td>4.000000</td>\n",
       "    </tr>\n",
       "    <tr>\n",
       "      <td>H59</td>\n",
       "      <td>4.692593</td>\n",
       "      <td>4.700000</td>\n",
       "      <td>4.785185</td>\n",
       "      <td>4.707407</td>\n",
       "      <td>4.788889</td>\n",
       "      <td>4.037037</td>\n",
       "    </tr>\n",
       "    <tr>\n",
       "      <td>H60</td>\n",
       "      <td>4.714815</td>\n",
       "      <td>4.707407</td>\n",
       "      <td>4.737037</td>\n",
       "      <td>4.670370</td>\n",
       "      <td>4.640741</td>\n",
       "      <td>4.133333</td>\n",
       "    </tr>\n",
       "  </tbody>\n",
       "</table>\n",
       "</div>"
      ],
      "text/plain": [
       "           总得分      服务得分      位置得分      设施得分      卫生得分     性价比得分\n",
       "酒店名称                                                            \n",
       "H51   4.774074  4.770370  4.792593  4.737037  4.859259  4.029630\n",
       "H52   4.696296  4.700000  4.785185  4.618519  4.737037  4.122222\n",
       "H53   4.707407  4.688889  4.788889  4.644444  4.744444  4.000000\n",
       "H54   4.774074  4.762963  4.781481  4.733333  4.822222  4.014815\n",
       "H55   4.755556  4.807407  4.785185  4.733333  4.840741  4.081481\n",
       "H56   4.622222  4.648148  4.737037  4.581481  4.744444  4.000000\n",
       "H57   4.633333  4.633333  4.725926  4.600000  4.740741  4.014815\n",
       "H58   4.759259  4.696296  4.788889  4.792593  4.855556  4.000000\n",
       "H59   4.692593  4.700000  4.785185  4.707407  4.788889  4.037037\n",
       "H60   4.714815  4.707407  4.737037  4.670370  4.640741  4.133333"
      ]
     },
     "execution_count": 415,
     "metadata": {},
     "output_type": "execute_result"
    }
   ],
   "source": [
    "dataset.set_index(['酒店名称'],inplace=True)\n",
    "dataset"
   ]
  },
  {
   "cell_type": "code",
   "execution_count": 416,
   "metadata": {},
   "outputs": [],
   "source": [
    "dataset.to_excel('酒店评分.xlsx')"
   ]
  },
  {
   "cell_type": "code",
   "execution_count": null,
   "metadata": {},
   "outputs": [],
   "source": []
  }
 ],
 "metadata": {
  "kernelspec": {
   "display_name": "Python 3",
   "language": "python",
   "name": "python3"
  },
  "language_info": {
   "codemirror_mode": {
    "name": "ipython",
    "version": 3
   },
   "file_extension": ".py",
   "mimetype": "text/x-python",
   "name": "python",
   "nbconvert_exporter": "python",
   "pygments_lexer": "ipython3",
   "version": "3.7.4"
  }
 },
 "nbformat": 4,
 "nbformat_minor": 2
}
