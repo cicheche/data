{
 "cells": [
  {
   "cell_type": "code",
   "execution_count": 2,
   "metadata": {},
   "outputs": [],
   "source": [
    "import pandas as pd\n",
    "import numpy as np\n",
    "import jieba\n",
    "import jieba.posseg as pseg\n",
    "import codecs\n",
    "from gensim import corpora, models, similarities\n",
    "#定义停用词、标点符号\n",
    "punctuation = [\"，\",\"。\",\"\",\"；\", \"？\"]\n",
    "#定义语料\n",
    "jdcomment = pd.read_excel('D:/泰迪杯/c题/附件1/酒店评论.xlsx')\n",
    "jdscore = pd.read_excel('D:/泰迪杯/c题/附件2/酒店评分.xlsx')\n",
    "jdcomment.index=jdcomment['酒店名称']\n",
    "jdscore.index=jdscore['酒店名称']"
   ]
  },
  {
   "cell_type": "code",
   "execution_count": 4,
   "metadata": {},
   "outputs": [
    {
     "data": {
      "text/plain": [
       "count    50.000000\n",
       "mean      4.712000\n",
       "std       0.130368\n",
       "min       4.200000\n",
       "25%       4.700000\n",
       "50%       4.700000\n",
       "75%       4.800000\n",
       "max       4.900000\n",
       "Name: 总得分, dtype: float64"
      ]
     },
     "execution_count": 4,
     "metadata": {},
     "output_type": "execute_result"
    }
   ],
   "source": [
    "jdscore['总得分'].describe()"
   ]
  },
  {
   "cell_type": "code",
   "execution_count": 9,
   "metadata": {},
   "outputs": [],
   "source": [
    "df1 = [jdcomment.loc[f'{x}']['评论内容'] for x in a]\n",
    "df2 = [jdcomment.loc[f'{x}']['评论内容'] for x in b]\n",
    "df3 = [jdcomment.loc[f'{x}']['评论内容'] for x in c]"
   ]
  },
  {
   "cell_type": "code",
   "execution_count": 6,
   "metadata": {},
   "outputs": [],
   "source": [
    "df = jdscore.sort_values(by=\"总得分\" ,ascending=False)\n",
    "#取出前三名\n",
    "a = df[:3]['酒店名称'].values\n",
    "# #取出末尾三名\n",
    "b = df[-3:]['酒店名称'].values\n",
    "# # #取出中等三名\n",
    "c = df[24:27]['酒店名称'].values"
   ]
  },
  {
   "cell_type": "code",
   "execution_count": 7,
   "metadata": {},
   "outputs": [
    {
     "name": "stdout",
     "output_type": "stream",
     "text": [
      "前三景区： ['H37' 'H04' 'H06'] 尾三景区： ['H48' 'H50' 'H38'] 中等景区： ['H35' 'H08' 'H09']\n"
     ]
    }
   ],
   "source": [
    "print(\"前三景区：\",a,\"尾三景区：\",b,\"中等景区：\",c)"
   ]
  },
  {
   "cell_type": "code",
   "execution_count": 11,
   "metadata": {},
   "outputs": [],
   "source": [
    "x=[str(i) for i in df1[0]]\n",
    "import re\n",
    "#加载停用词\n",
    "stoplist= [word.strip() for word in open('stopwords.txt',encoding='gb2312').readlines()]\n",
    "# print(stoplist)\n",
    "sentences_list = x\n",
    "# 对句子进行分词\n",
    "def seg_depart(sentence):\n",
    "    # 去掉非汉字字符\n",
    "    sentence = re.sub(r'[^\\u4e00-\\u9fa5]+','',sentence)\n",
    "    sentence_depart = jieba.cut(sentence.strip())\n",
    "    word_list = []\n",
    "    for word in sentence_depart:\n",
    "        if word not in stoplist:\n",
    "            word_list.append(word)\n",
    "    # 如果句子整个被过滤掉了，如：'02-2717:56'被过滤，那就返回[],保持句子的数量不变\n",
    "    return word_list\n",
    "sentence_word_list = []\n",
    "for sentence in sentences_list:\n",
    "    line_seg = seg_depart(sentence)\n",
    "    sentence_word_list.append(line_seg)\n",
    "    \n",
    "#去除标点符号\n",
    "words = []\n",
    "data = []\n",
    "punctuation = [\"，\",\"。\",\"\",\"；\", \"？\"]\n",
    "for word in sentence_word_list:\n",
    "    if word not in punctuation:          \n",
    "        words.append(word)\n",
    "    data.append(words)\n",
    "    \n",
    "#数据降维\n",
    "data = [x for y in data for x in y]"
   ]
  },
  {
   "cell_type": "code",
   "execution_count": 12,
   "metadata": {},
   "outputs": [],
   "source": [
    "from gensim.models import Word2Vec\n",
    "def similar(data,word):\n",
    "    sentence_list = []\n",
    "    model = Word2Vec(data, sg=1,  window=5,  min_count=2,  negative=1, sample=0.001, hs=1, workers=4)\n",
    "    return model.wv.similar_by_word(word, topn=10)"
   ]
  },
  {
   "cell_type": "code",
   "execution_count": 13,
   "metadata": {},
   "outputs": [
    {
     "data": {
      "text/plain": [
       "[('酒店', 0.31450348270954875),\n",
       " ('服务', 0.23151870424264684),\n",
       " ('房间', 0.17972675824965617),\n",
       " ('不错', 0.1595819609148997),\n",
       " ('lucky', 0.15842636017453438)]"
      ]
     },
     "execution_count": 13,
     "metadata": {},
     "output_type": "execute_result"
    }
   ],
   "source": [
    "import jieba.analyse\n",
    "# 基于 TF-IDF 算法的关键词抽取\n",
    "tags = jieba.analyse.extract_tags(\",\".join(df1[0]), topK=5,withWeight=True, allowPOS=())\n",
    "tags"
   ]
  },
  {
   "cell_type": "code",
   "execution_count": 15,
   "metadata": {},
   "outputs": [
    {
     "data": {
      "text/plain": [
       "[('热情', 0.38999316096305847),\n",
       " ('升级', 0.38648805022239685),\n",
       " ('送', 0.31139278411865234),\n",
       " ('贴心', 0.30947911739349365),\n",
       " ('前台', 0.3054492771625519),\n",
       " ('小点心', 0.29868283867836),\n",
       " ('甜点', 0.27886903285980225),\n",
       " ('期间', 0.27220994234085083),\n",
       " ('帮忙', 0.26692116260528564),\n",
       " ('好吃', 0.2661800682544708)]"
      ]
     },
     "execution_count": 15,
     "metadata": {},
     "output_type": "execute_result"
    }
   ],
   "source": [
    "H37 = similar(data,'服务')"
   ]
  },
  {
   "cell_type": "code",
   "execution_count": 16,
   "metadata": {},
   "outputs": [],
   "source": [
    "x=[str(i) for i in df1[1]]\n",
    "import re\n",
    "#加载停用词\n",
    "stoplist= [word.strip() for word in open('stopwords.txt',encoding='gb2312').readlines()]\n",
    "# print(stoplist)\n",
    "sentences_list = x\n",
    "# 对句子进行分词\n",
    "def seg_depart(sentence):\n",
    "    # 去掉非汉字字符\n",
    "    sentence = re.sub(r'[^\\u4e00-\\u9fa5]+','',sentence)\n",
    "    sentence_depart = jieba.cut(sentence.strip())\n",
    "    word_list = []\n",
    "    for word in sentence_depart:\n",
    "        if word not in stoplist:\n",
    "            word_list.append(word)\n",
    "    # 如果句子整个被过滤掉了，如：'02-2717:56'被过滤，那就返回[],保持句子的数量不变\n",
    "    return word_list\n",
    "sentence_word_list = []\n",
    "for sentence in sentences_list:\n",
    "    line_seg = seg_depart(sentence)\n",
    "    sentence_word_list.append(line_seg)\n",
    "    \n",
    "#去除标点符号\n",
    "words = []\n",
    "data = []\n",
    "punctuation = [\"，\",\"。\",\"\",\"；\", \"？\"]\n",
    "for word in sentence_word_list:\n",
    "    if word not in punctuation:          \n",
    "        words.append(word)\n",
    "    data.append(words)\n",
    "    \n",
    "#数据降维\n",
    "data = [x for y in data for x in y]"
   ]
  },
  {
   "cell_type": "code",
   "execution_count": 17,
   "metadata": {},
   "outputs": [
    {
     "data": {
      "text/plain": [
       "[('酒店', 0.242481958408609),\n",
       " ('温泉', 0.14847957966536543),\n",
       " ('不错', 0.1447918341200209),\n",
       " ('服务', 0.13100875871241857),\n",
       " ('非常', 0.09777391537929725)]"
      ]
     },
     "execution_count": 17,
     "metadata": {},
     "output_type": "execute_result"
    }
   ],
   "source": [
    "import jieba.analyse\n",
    "# 基于 TF-IDF 算法的关键词抽取\n",
    "tags = jieba.analyse.extract_tags(\",\".join(df1[1]), topK=5,withWeight=True, allowPOS=())\n",
    "tags"
   ]
  },
  {
   "cell_type": "code",
   "execution_count": 18,
   "metadata": {},
   "outputs": [],
   "source": [
    "H04 = similar(data,'温泉')"
   ]
  },
  {
   "cell_type": "code",
   "execution_count": 19,
   "metadata": {},
   "outputs": [
    {
     "data": {
      "text/plain": [
       "[('泳池', 0.41716334223747253),\n",
       " ('池', 0.3704264163970947),\n",
       " ('各种类型', 0.36789172887802124),\n",
       " ('酒店', 0.3581867516040802),\n",
       " ('暖水', 0.34769368171691895),\n",
       " ('状', 0.31901848316192627),\n",
       " ('蒸干', 0.31402096152305603),\n",
       " ('区', 0.3032481372356415),\n",
       " ('痰', 0.2954379618167877),\n",
       " ('更换', 0.2815193235874176)]"
      ]
     },
     "execution_count": 19,
     "metadata": {},
     "output_type": "execute_result"
    }
   ],
   "source": [
    "x=[str(i) for i in df1[2]]\n",
    "import re\n",
    "#加载停用词\n",
    "stoplist= [word.strip() for word in open('stopwords.txt',encoding='gb2312').readlines()]\n",
    "# print(stoplist)\n",
    "sentences_list = x\n",
    "# 对句子进行分词\n",
    "def seg_depart(sentence):\n",
    "    # 去掉非汉字字符\n",
    "    sentence = re.sub(r'[^\\u4e00-\\u9fa5]+','',sentence)\n",
    "    sentence_depart = jieba.cut(sentence.strip())\n",
    "    word_list = []\n",
    "    for word in sentence_depart:\n",
    "        if word not in stoplist:\n",
    "            word_list.append(word)\n",
    "    # 如果句子整个被过滤掉了，如：'02-2717:56'被过滤，那就返回[],保持句子的数量不变\n",
    "    return word_list\n",
    "sentence_word_list = []\n",
    "for sentence in sentences_list:\n",
    "    line_seg = seg_depart(sentence)\n",
    "    sentence_word_list.append(line_seg)\n",
    "    \n",
    "#去除标点符号\n",
    "words = []\n",
    "data = []\n",
    "punctuation = [\"，\",\"。\",\"\",\"；\", \"？\"]\n",
    "for word in sentence_word_list:\n",
    "    if word not in punctuation:          \n",
    "        words.append(word)\n",
    "    data.append(words)\n",
    "    \n",
    "#数据降维\n",
    "data = [x for y in data for x in y]"
   ]
  },
  {
   "cell_type": "code",
   "execution_count": 20,
   "metadata": {},
   "outputs": [
    {
     "data": {
      "text/plain": [
       "[('温泉', 0.22034069000518003),\n",
       " ('酒店', 0.18269896703978156),\n",
       " ('服务', 0.17029287617578512),\n",
       " ('早餐', 0.10023501280544274),\n",
       " ('非常', 0.0984130001272491)]"
      ]
     },
     "execution_count": 20,
     "metadata": {},
     "output_type": "execute_result"
    }
   ],
   "source": [
    "import jieba.analyse\n",
    "# 基于 TF-IDF 算法的关键词抽取\n",
    "tags = jieba.analyse.extract_tags(\",\".join(df1[2]), topK=5,withWeight=True, allowPOS=())\n",
    "tags"
   ]
  },
  {
   "cell_type": "code",
   "execution_count": 21,
   "metadata": {},
   "outputs": [],
   "source": [
    "H06 = similar(data,'温泉')"
   ]
  },
  {
   "cell_type": "code",
   "execution_count": 22,
   "metadata": {},
   "outputs": [],
   "source": [
    "x=[str(i) for i in df2[0]]\n",
    "import re\n",
    "#加载停用词\n",
    "stoplist= [word.strip() for word in open('stopwords.txt',encoding='gb2312').readlines()]\n",
    "# print(stoplist)\n",
    "sentences_list = x\n",
    "# 对句子进行分词\n",
    "def seg_depart(sentence):\n",
    "    # 去掉非汉字字符\n",
    "    sentence = re.sub(r'[^\\u4e00-\\u9fa5]+','',sentence)\n",
    "    sentence_depart = jieba.cut(sentence.strip())\n",
    "    word_list = []\n",
    "    for word in sentence_depart:\n",
    "        if word not in stoplist:\n",
    "            word_list.append(word)\n",
    "    # 如果句子整个被过滤掉了，如：'02-2717:56'被过滤，那就返回[],保持句子的数量不变\n",
    "    return word_list\n",
    "sentence_word_list = []\n",
    "for sentence in sentences_list:\n",
    "    line_seg = seg_depart(sentence)\n",
    "    sentence_word_list.append(line_seg)\n",
    "    \n",
    "#去除标点符号\n",
    "words = []\n",
    "data = []\n",
    "punctuation = [\"，\",\"。\",\"\",\"；\", \"？\"]\n",
    "for word in sentence_word_list:\n",
    "    if word not in punctuation:          \n",
    "        words.append(word)\n",
    "    data.append(words)\n",
    "    \n",
    "#数据降维\n",
    "data = [x for y in data for x in y]"
   ]
  },
  {
   "cell_type": "code",
   "execution_count": 23,
   "metadata": {},
   "outputs": [
    {
     "data": {
      "text/plain": [
       "[('服务', 0.34826220997645335),\n",
       " ('酒店', 0.3185491781495335),\n",
       " ('卫生', 0.264834564273445),\n",
       " ('不错', 0.23316909719802628),\n",
       " ('房间', 0.1946710626017225)]"
      ]
     },
     "execution_count": 23,
     "metadata": {},
     "output_type": "execute_result"
    }
   ],
   "source": [
    "import jieba.analyse\n",
    "# 基于 TF-IDF 算法的关键词抽取\n",
    "tags = jieba.analyse.extract_tags(\",\".join(df2[0]), topK=5,withWeight=True, allowPOS=())\n",
    "tags"
   ]
  },
  {
   "cell_type": "code",
   "execution_count": 25,
   "metadata": {},
   "outputs": [],
   "source": [
    "H48 = similar(data,'服务')"
   ]
  },
  {
   "cell_type": "code",
   "execution_count": 27,
   "metadata": {},
   "outputs": [],
   "source": [
    "x=[str(i) for i in df2[1]]\n",
    "import re\n",
    "#加载停用词\n",
    "stoplist= [word.strip() for word in open('stopwords.txt',encoding='gb2312').readlines()]\n",
    "# print(stoplist)\n",
    "sentences_list = x\n",
    "# 对句子进行分词\n",
    "def seg_depart(sentence):\n",
    "    # 去掉非汉字字符\n",
    "    sentence = re.sub(r'[^\\u4e00-\\u9fa5]+','',sentence)\n",
    "    sentence_depart = jieba.cut(sentence.strip())\n",
    "    word_list = []\n",
    "    for word in sentence_depart:\n",
    "        if word not in stoplist:\n",
    "            word_list.append(word)\n",
    "    # 如果句子整个被过滤掉了，如：'02-2717:56'被过滤，那就返回[],保持句子的数量不变\n",
    "    return word_list\n",
    "sentence_word_list = []\n",
    "for sentence in sentences_list:\n",
    "    line_seg = seg_depart(sentence)\n",
    "    sentence_word_list.append(line_seg)\n",
    "    \n",
    "#去除标点符号\n",
    "words = []\n",
    "data = []\n",
    "punctuation = [\"，\",\"。\",\"\",\"；\", \"？\"]\n",
    "for word in sentence_word_list:\n",
    "    if word not in punctuation:          \n",
    "        words.append(word)\n",
    "    data.append(words)\n",
    "    \n",
    "#数据降维\n",
    "data = [x for y in data for x in y]"
   ]
  },
  {
   "cell_type": "code",
   "execution_count": 28,
   "metadata": {},
   "outputs": [
    {
     "data": {
      "text/plain": [
       "[('酒店', 0.4194116476018152),\n",
       " ('不错', 0.1968795086006363),\n",
       " ('方便', 0.15192761214984596),\n",
       " ('房间', 0.14761143031058271),\n",
       " ('早餐', 0.12956522889363695)]"
      ]
     },
     "execution_count": 28,
     "metadata": {},
     "output_type": "execute_result"
    }
   ],
   "source": [
    "import jieba.analyse\n",
    "# 基于 TF-IDF 算法的关键词抽取\n",
    "tags = jieba.analyse.extract_tags(\",\".join(df2[1]), topK=5,withWeight=True, allowPOS=())\n",
    "tags"
   ]
  },
  {
   "cell_type": "code",
   "execution_count": 29,
   "metadata": {},
   "outputs": [],
   "source": [
    "H50 = similar(data,'酒店')"
   ]
  },
  {
   "cell_type": "code",
   "execution_count": 30,
   "metadata": {},
   "outputs": [],
   "source": [
    "x=[str(i) for i in df2[2]]\n",
    "import re\n",
    "#加载停用词\n",
    "stoplist= [word.strip() for word in open('stopwords.txt',encoding='gb2312').readlines()]\n",
    "# print(stoplist)\n",
    "sentences_list = x\n",
    "# 对句子进行分词\n",
    "def seg_depart(sentence):\n",
    "    # 去掉非汉字字符\n",
    "    sentence = re.sub(r'[^\\u4e00-\\u9fa5]+','',sentence)\n",
    "    sentence_depart = jieba.cut(sentence.strip())\n",
    "    word_list = []\n",
    "    for word in sentence_depart:\n",
    "        if word not in stoplist:\n",
    "            word_list.append(word)\n",
    "    # 如果句子整个被过滤掉了，如：'02-2717:56'被过滤，那就返回[],保持句子的数量不变\n",
    "    return word_list\n",
    "sentence_word_list = []\n",
    "for sentence in sentences_list:\n",
    "    line_seg = seg_depart(sentence)\n",
    "    sentence_word_list.append(line_seg)\n",
    "    \n",
    "#去除标点符号\n",
    "words = []\n",
    "data = []\n",
    "punctuation = [\"，\",\"。\",\"\",\"；\", \"？\"]\n",
    "for word in sentence_word_list:\n",
    "    if word not in punctuation:          \n",
    "        words.append(word)\n",
    "    data.append(words)\n",
    "    \n",
    "#数据降维\n",
    "data = [x for y in data for x in y]"
   ]
  },
  {
   "cell_type": "code",
   "execution_count": 31,
   "metadata": {},
   "outputs": [
    {
     "data": {
      "text/plain": [
       "[('酒店', 0.2999462013429747),\n",
       " ('早餐', 0.14418768450755207),\n",
       " ('房间', 0.10568454434767406),\n",
       " ('沙滩', 0.1054862110999424),\n",
       " ('设施', 0.10501808812892427)]"
      ]
     },
     "execution_count": 31,
     "metadata": {},
     "output_type": "execute_result"
    }
   ],
   "source": [
    "import jieba.analyse\n",
    "# 基于 TF-IDF 算法的关键词抽取\n",
    "tags = jieba.analyse.extract_tags(\",\".join(df2[2]), topK=5,withWeight=True, allowPOS=())\n",
    "tags"
   ]
  },
  {
   "cell_type": "code",
   "execution_count": 32,
   "metadata": {},
   "outputs": [],
   "source": [
    "H38 = similar(data,'早餐')"
   ]
  },
  {
   "cell_type": "code",
   "execution_count": 33,
   "metadata": {},
   "outputs": [],
   "source": [
    "x=[str(i) for i in df3[0]]\n",
    "import re\n",
    "#加载停用词\n",
    "stoplist= [word.strip() for word in open('stopwords.txt',encoding='gb2312').readlines()]\n",
    "# print(stoplist)\n",
    "sentences_list = x\n",
    "# 对句子进行分词\n",
    "def seg_depart(sentence):\n",
    "    # 去掉非汉字字符\n",
    "    sentence = re.sub(r'[^\\u4e00-\\u9fa5]+','',sentence)\n",
    "    sentence_depart = jieba.cut(sentence.strip())\n",
    "    word_list = []\n",
    "    for word in sentence_depart:\n",
    "        if word not in stoplist:\n",
    "            word_list.append(word)\n",
    "    # 如果句子整个被过滤掉了，如：'02-2717:56'被过滤，那就返回[],保持句子的数量不变\n",
    "    return word_list\n",
    "sentence_word_list = []\n",
    "for sentence in sentences_list:\n",
    "    line_seg = seg_depart(sentence)\n",
    "    sentence_word_list.append(line_seg)\n",
    "    \n",
    "#去除标点符号\n",
    "words = []\n",
    "data = []\n",
    "punctuation = [\"，\",\"。\",\"\",\"；\", \"？\"]\n",
    "for word in sentence_word_list:\n",
    "    if word not in punctuation:          \n",
    "        words.append(word)\n",
    "    data.append(words)\n",
    "    \n",
    "#数据降维\n",
    "data = [x for y in data for x in y]"
   ]
  },
  {
   "cell_type": "code",
   "execution_count": 34,
   "metadata": {},
   "outputs": [
    {
     "data": {
      "text/plain": [
       "[('酒店', 0.2744276773865858),\n",
       " ('不错', 0.17374243994235702),\n",
       " ('房间', 0.16688179653073135),\n",
       " ('服务', 0.16109778230332408),\n",
       " ('干净', 0.1587952940136707)]"
      ]
     },
     "execution_count": 34,
     "metadata": {},
     "output_type": "execute_result"
    }
   ],
   "source": [
    "import jieba.analyse\n",
    "# 基于 TF-IDF 算法的关键词抽取\n",
    "tags = jieba.analyse.extract_tags(\",\".join(df3[0]), topK=5,withWeight=True, allowPOS=())\n",
    "tags"
   ]
  },
  {
   "cell_type": "code",
   "execution_count": 35,
   "metadata": {},
   "outputs": [],
   "source": [
    "H35 = similar(data,'酒店')"
   ]
  },
  {
   "cell_type": "code",
   "execution_count": 36,
   "metadata": {},
   "outputs": [],
   "source": [
    "x=[str(i) for i in df3[1]]\n",
    "import re\n",
    "#加载停用词\n",
    "stoplist= [word.strip() for word in open('stopwords.txt',encoding='gb2312').readlines()]\n",
    "# print(stoplist)\n",
    "sentences_list = x\n",
    "# 对句子进行分词\n",
    "def seg_depart(sentence):\n",
    "    # 去掉非汉字字符\n",
    "    sentence = re.sub(r'[^\\u4e00-\\u9fa5]+','',sentence)\n",
    "    sentence_depart = jieba.cut(sentence.strip())\n",
    "    word_list = []\n",
    "    for word in sentence_depart:\n",
    "        if word not in stoplist:\n",
    "            word_list.append(word)\n",
    "    # 如果句子整个被过滤掉了，如：'02-2717:56'被过滤，那就返回[],保持句子的数量不变\n",
    "    return word_list\n",
    "sentence_word_list = []\n",
    "for sentence in sentences_list:\n",
    "    line_seg = seg_depart(sentence)\n",
    "    sentence_word_list.append(line_seg)\n",
    "    \n",
    "#去除标点符号\n",
    "words = []\n",
    "data = []\n",
    "punctuation = [\"，\",\"。\",\"\",\"；\", \"？\"]\n",
    "for word in sentence_word_list:\n",
    "    if word not in punctuation:          \n",
    "        words.append(word)\n",
    "    data.append(words)\n",
    "    \n",
    "#数据降维\n",
    "data = [x for y in data for x in y]"
   ]
  },
  {
   "cell_type": "code",
   "execution_count": 37,
   "metadata": {},
   "outputs": [
    {
     "data": {
      "text/plain": [
       "[('不错', 0.31132207635353304),\n",
       " ('酒店', 0.2616969669924697),\n",
       " ('服务', 0.2296648324374937),\n",
       " ('房间', 0.2201939094402744),\n",
       " ('前台', 0.1861633454527258)]"
      ]
     },
     "execution_count": 37,
     "metadata": {},
     "output_type": "execute_result"
    }
   ],
   "source": [
    "import jieba.analyse\n",
    "# 基于 TF-IDF 算法的关键词抽取\n",
    "tags = jieba.analyse.extract_tags(\",\".join(df3[1]), topK=5,withWeight=True, allowPOS=())\n",
    "tags"
   ]
  },
  {
   "cell_type": "code",
   "execution_count": 38,
   "metadata": {},
   "outputs": [],
   "source": [
    "H08 = similar(data,'不错')"
   ]
  },
  {
   "cell_type": "code",
   "execution_count": 39,
   "metadata": {},
   "outputs": [],
   "source": [
    "x=[str(i) for i in df3[2]]\n",
    "import re\n",
    "#加载停用词\n",
    "stoplist= [word.strip() for word in open('stopwords.txt',encoding='gb2312').readlines()]\n",
    "# print(stoplist)\n",
    "sentences_list = x\n",
    "# 对句子进行分词\n",
    "def seg_depart(sentence):\n",
    "    # 去掉非汉字字符\n",
    "    sentence = re.sub(r'[^\\u4e00-\\u9fa5]+','',sentence)\n",
    "    sentence_depart = jieba.cut(sentence.strip())\n",
    "    word_list = []\n",
    "    for word in sentence_depart:\n",
    "        if word not in stoplist:\n",
    "            word_list.append(word)\n",
    "    # 如果句子整个被过滤掉了，如：'02-2717:56'被过滤，那就返回[],保持句子的数量不变\n",
    "    return word_list\n",
    "sentence_word_list = []\n",
    "for sentence in sentences_list:\n",
    "    line_seg = seg_depart(sentence)\n",
    "    sentence_word_list.append(line_seg)\n",
    "    \n",
    "#去除标点符号\n",
    "words = []\n",
    "data = []\n",
    "punctuation = [\"，\",\"。\",\"\",\"；\", \"？\"]\n",
    "for word in sentence_word_list:\n",
    "    if word not in punctuation:          \n",
    "        words.append(word)\n",
    "    data.append(words)\n",
    "    \n",
    "#数据降维\n",
    "data = [x for y in data for x in y]"
   ]
  },
  {
   "cell_type": "code",
   "execution_count": 40,
   "metadata": {},
   "outputs": [
    {
     "data": {
      "text/plain": [
       "[('酒店', 0.24576180330481445),\n",
       " ('早餐', 0.15241172535287398),\n",
       " ('沙滩', 0.12386152237573311),\n",
       " ('泳池', 0.12319121171445287),\n",
       " ('不错', 0.1113244403498559)]"
      ]
     },
     "execution_count": 40,
     "metadata": {},
     "output_type": "execute_result"
    }
   ],
   "source": [
    "import jieba.analyse\n",
    "# 基于 TF-IDF 算法的关键词抽取\n",
    "tags = jieba.analyse.extract_tags(\",\".join(df3[2]), topK=5,withWeight=True, allowPOS=())\n",
    "tags"
   ]
  },
  {
   "cell_type": "code",
   "execution_count": 41,
   "metadata": {},
   "outputs": [],
   "source": [
    "H09 = similar(data,'酒店')"
   ]
  },
  {
   "cell_type": "code",
   "execution_count": null,
   "metadata": {},
   "outputs": [],
   "source": [
    "前三景区： ['H37' 'H04' 'H06'] 尾三景区： ['H48' 'H50' 'H38'] 中等景区： ['H35' 'H08' 'H09']"
   ]
  },
  {
   "cell_type": "code",
   "execution_count": 44,
   "metadata": {},
   "outputs": [
    {
     "name": "stdout",
     "output_type": "stream",
     "text": [
      "H37酒店的服务相关特点 [('热情', 0.38999316096305847), ('升级', 0.38648805022239685), ('送', 0.31139278411865234), ('贴心', 0.30947911739349365), ('前台', 0.3054492771625519), ('小点心', 0.29868283867836), ('甜点', 0.27886903285980225), ('期间', 0.27220994234085083), ('帮忙', 0.26692116260528564), ('好吃', 0.2661800682544708)]\n",
      "H04酒店的温泉相关特点 [('泳池', 0.41716334223747253), ('池', 0.3704264163970947), ('各种类型', 0.36789172887802124), ('酒店', 0.3581867516040802), ('暖水', 0.34769368171691895), ('状', 0.31901848316192627), ('蒸干', 0.31402096152305603), ('区', 0.3032481372356415), ('痰', 0.2954379618167877), ('更换', 0.2815193235874176)]\n",
      "H06酒店的温泉相关特点 [('泳池', 0.37808647751808167), ('酒店', 0.3722090721130371), ('暖水', 0.35751834511756897), ('池', 0.3561463952064514), ('区', 0.3373549282550812), ('状', 0.30776944756507874), ('游泳', 0.3020682632923126), ('玩沙', 0.28879573941230774), ('各种类型', 0.28436294198036194), ('泡池', 0.28366518020629883)]\n",
      "H48酒店的服务相关特点 [('不错', 0.2888270616531372), ('人员', 0.24533632397651672), ('挺', 0.23171380162239075), ('环境', 0.21959859132766724), ('不灵', 0.20595887303352356), ('入住', 0.19925923645496368), ('老街', 0.19884942471981049), ('体温', 0.19660519063472748), ('深圳', 0.18702110648155212), ('地理位置', 0.18680669367313385)]\n",
      "H50酒店的酒店相关特点 [('实惠', 0.24837084114551544), ('算', 0.20312762260437012), ('配套', 0.18605825304985046), ('不错', 0.17936167120933533), ('之外', 0.17725332081317902), ('位置', 0.16865332424640656), ('高效', 0.16755658388137817), ('宽敞明亮', 0.1671169251203537), ('热情', 0.16613663733005524), ('亲戚家', 0.16381514072418213)]\n",
      "H38酒店的早餐相关特点 [('自助', 0.2846854031085968), ('桌子', 0.22802375257015228), ('品种', 0.22308702766895294), ('不太好', 0.21543662250041962), ('还行', 0.2119859755039215), ('算', 0.20517903566360474), ('干净', 0.20225724577903748), ('不狠', 0.20188617706298828), ('一位', 0.19854281842708588), ('能加床', 0.19353172183036804)]\n",
      "H35酒店的酒店相关特点 [('没想到', 0.19403666257858276), ('女性', 0.17181015014648438), ('加', 0.16318662464618683), ('义务', 0.16289877891540527), ('合同', 0.16149699687957764), ('重视', 0.1574697196483612), ('介绍', 0.15323999524116516), ('有没有', 0.15262526273727417), ('能住', 0.1501913070678711), ('满意哦', 0.149233877658844)]\n",
      "H08酒店的相关特点 [('热情', 0.23359788954257965), ('赞', 0.22403796017169952), ('时期', 0.21605120599269867), ('还会', 0.21343177556991577), ('几次', 0.2053808867931366), ('预订', 0.20481158792972565), ('选择', 0.2013496458530426), ('很大', 0.19998633861541748), ('齐全', 0.19418132305145264), ('停车位', 0.18924234807491302)]\n",
      "H09酒店的酒店相关特点 [('服务', 0.3210027813911438), ('大梅沙', 0.3102559745311737), ('五星级', 0.28603747487068176), ('这家', 0.2741594612598419), ('样子', 0.25433287024497986), ('私家', 0.24892303347587585), ('优美', 0.2370675653219223), ('不配', 0.2308621108531952), ('外', 0.23048651218414307), ('安利', 0.22929556667804718)]\n"
     ]
    }
   ],
   "source": [
    "print(\"H37酒店的服务相关特点\",H37)\n",
    "print(\"H04酒店的温泉相关特点\",H04)\n",
    "print(\"H06酒店的温泉相关特点\",H06)\n",
    "print(\"H48酒店的服务相关特点\",H48)\n",
    "print(\"H50酒店的酒店相关特点\",H50)\n",
    "print(\"H38酒店的早餐相关特点\",H38)\n",
    "print(\"H35酒店的酒店相关特点\",H35)\n",
    "print(\"H08酒店的相关特点\",H08)\n",
    "print(\"H09酒店的酒店相关特点\",H09)"
   ]
  },
  {
   "cell_type": "code",
   "execution_count": null,
   "metadata": {},
   "outputs": [],
   "source": []
  }
 ],
 "metadata": {
  "kernelspec": {
   "display_name": "Python 3",
   "language": "python",
   "name": "python3"
  },
  "language_info": {
   "codemirror_mode": {
    "name": "ipython",
    "version": 3
   },
   "file_extension": ".py",
   "mimetype": "text/x-python",
   "name": "python",
   "nbconvert_exporter": "python",
   "pygments_lexer": "ipython3",
   "version": "3.7.4"
  }
 },
 "nbformat": 4,
 "nbformat_minor": 2
}
